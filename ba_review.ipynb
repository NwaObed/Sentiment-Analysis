{
 "cells": [
  {
   "cell_type": "code",
   "execution_count": 1,
   "id": "d5c0b6d1",
   "metadata": {},
   "outputs": [
    {
     "data": {
      "text/html": [
       "        <script type=\"text/javascript\">\n",
       "        window.PlotlyConfig = {MathJaxConfig: 'local'};\n",
       "        if (window.MathJax && window.MathJax.Hub && window.MathJax.Hub.Config) {window.MathJax.Hub.Config({SVG: {font: \"STIX-Web\"}});}\n",
       "        if (typeof require !== 'undefined') {\n",
       "        require.undef(\"plotly\");\n",
       "        requirejs.config({\n",
       "            paths: {\n",
       "                'plotly': ['https://cdn.plot.ly/plotly-2.12.1.min']\n",
       "            }\n",
       "        });\n",
       "        require(['plotly'], function(Plotly) {\n",
       "            window._Plotly = Plotly;\n",
       "        });\n",
       "        }\n",
       "        </script>\n",
       "        "
      ]
     },
     "metadata": {},
     "output_type": "display_data"
    },
    {
     "data": {
      "text/html": [
       "        <script type=\"text/javascript\">\n",
       "        window.PlotlyConfig = {MathJaxConfig: 'local'};\n",
       "        if (window.MathJax && window.MathJax.Hub && window.MathJax.Hub.Config) {window.MathJax.Hub.Config({SVG: {font: \"STIX-Web\"}});}\n",
       "        if (typeof require !== 'undefined') {\n",
       "        require.undef(\"plotly\");\n",
       "        requirejs.config({\n",
       "            paths: {\n",
       "                'plotly': ['https://cdn.plot.ly/plotly-2.12.1.min']\n",
       "            }\n",
       "        });\n",
       "        require(['plotly'], function(Plotly) {\n",
       "            window._Plotly = Plotly;\n",
       "        });\n",
       "        }\n",
       "        </script>\n",
       "        "
      ]
     },
     "metadata": {},
     "output_type": "display_data"
    }
   ],
   "source": [
    "import pandas as pd\n",
    "import numpy as np\n",
    "from sentiment import CustomSentimentAnalyzer\n",
    "from eda import Eda\n",
    "from scraper import DataCollection"
   ]
  },
  {
   "cell_type": "code",
   "execution_count": 2,
   "id": "364a9a08",
   "metadata": {},
   "outputs": [
    {
     "name": "stdout",
     "output_type": "stream",
     "text": [
      "==============Scrapping in progress ...==============\n",
      "Scraping page 1\n",
      "Scraping page 2\n",
      "Scraping page 3\n",
      "Scraping page 4\n",
      "Scraping page 5\n",
      "Scraping page 6\n",
      "Scraping page 7\n",
      "Scraping page 8\n",
      "Scraping page 9\n",
      "Scraping page 10\n",
      "Scraping page 11\n",
      "Scraping page 12\n",
      "Scraping page 13\n",
      "Scraping page 14\n",
      "Scraping page 15\n",
      "Scraping page 16\n",
      "Scraping page 17\n",
      "Scraping page 18\n",
      "Scraping page 19\n",
      "Scraping page 20\n",
      "Scraping page 21\n",
      "Scraping page 22\n",
      "Scraping page 23\n",
      "Scraping page 24\n",
      "Scraping page 25\n",
      "Scraping page 26\n",
      "Scraping page 27\n",
      "Scraping page 28\n",
      "Scraping page 29\n",
      "Scraping page 30\n",
      "Scraping page 31\n",
      "Scraping page 32\n",
      "Scraping page 33\n",
      "Scraping page 34\n",
      "Scraping page 35\n",
      "Scraping page 36\n",
      "Scraping page 37\n",
      "Scraping page 38\n",
      "Scraping page 39\n",
      "Scraping page 40\n",
      "Scraping page 41\n",
      "Scraping page 42\n",
      "Scraping page 43\n",
      "Scraping page 44\n",
      "Scraping page 45\n",
      "Scraping page 46\n",
      "Scraping page 47\n",
      "Scraping page 48\n",
      "Scraping page 49\n",
      "Scraping page 50\n",
      "Scraping page 51\n",
      "Scraping page 52\n",
      "Scraping page 53\n",
      "Scraping page 54\n",
      "Scraping page 55\n",
      "Scraping page 56\n",
      "Scraping page 57\n",
      "Scraping page 58\n",
      "Scraping page 59\n",
      "Scraping page 60\n",
      "Scraping page 61\n",
      "Scraping page 62\n",
      "Scraping page 63\n",
      "Scraping page 64\n",
      "Scraping page 65\n",
      "Scraping page 66\n",
      "Scraping page 67\n",
      "Scraping page 68\n",
      "Scraping page 69\n",
      "Scraping page 70\n",
      "Scraping page 71\n",
      "Scraping page 72\n",
      "Scraping page 73\n",
      "Scraping page 74\n",
      "Scraping page 75\n",
      "Scraping page 76\n",
      "Scraping page 77\n",
      "Scraping page 78\n",
      "Scraping page 79\n",
      "Scraping page 80\n",
      "Scraping page 81\n",
      "Scraping page 82\n",
      "Scraping page 83\n",
      "Scraping page 84\n",
      "Scraping page 85\n",
      "Scraping page 86\n",
      "Scraping page 87\n",
      "Scraping page 88\n",
      "Scraping page 89\n",
      "Scraping page 90\n",
      "Scraping page 91\n",
      "Scraping page 92\n",
      "Scraping page 93\n",
      "Scraping page 94\n",
      "Scraping page 95\n",
      "Scraping page 96\n",
      "Scraping page 97\n",
      "Scraping page 98\n",
      "Scraping page 99\n",
      "Scraping page 100\n",
      "Scraping page 101\n",
      "Scraping page 102\n",
      "Scraping page 103\n",
      "Scraping page 104\n",
      "Scraping page 105\n",
      "Scraping page 106\n",
      "Scraping page 107\n",
      "Scraping page 108\n",
      "Scraping page 109\n",
      "Scraping page 110\n",
      "Scraping page 111\n",
      "Scraping page 112\n",
      "Scraping page 113\n",
      "Scraping page 114\n",
      "Scraping page 115\n",
      "Scraping page 116\n",
      "Scraping page 117\n",
      "Scraping page 118\n",
      "Scraping page 119\n",
      "Scraping page 120\n",
      "Scraping page 121\n",
      "Scraping page 122\n",
      "Scraping page 123\n",
      "Scraping page 124\n",
      "Scraping page 125\n",
      "Scraping page 126\n",
      "Scraping page 127\n",
      "Scraping page 128\n",
      "Scraping page 129\n",
      "Scraping page 130\n",
      "Scraping page 131\n",
      "Scraping page 132\n",
      "Scraping page 133\n",
      "Scraping page 134\n",
      "Scraping page 135\n",
      "Scraping page 136\n",
      "Scraping page 137\n",
      "Scraping page 138\n",
      "Scraping page 139\n",
      "Scraping page 140\n",
      "Scraping page 141\n",
      "Scraping page 142\n",
      "Scraping page 143\n",
      "Scraping page 144\n",
      "Scraping page 145\n",
      "Scraping page 146\n",
      "Scraping page 147\n",
      "Scraping page 148\n",
      "Scraping page 149\n",
      "Scraping page 150\n",
      "Scraping page 151\n",
      "Scraping page 152\n",
      "Scraping page 153\n",
      "Scraping page 154\n",
      "Scraping page 155\n",
      "Scraping page 156\n",
      "Scraping page 157\n",
      "Scraping page 158\n",
      "Scraping page 159\n",
      "Scraping page 160\n",
      "Scraping page 161\n",
      "Scraping page 162\n",
      "Scraping page 163\n",
      "Scraping page 164\n",
      "Scraping page 165\n",
      "Scraping page 166\n",
      "Scraping page 167\n",
      "Scraping page 168\n",
      "Scraping page 169\n",
      "Scraping page 170\n",
      "Scraping page 171\n",
      "Scraping page 172\n",
      "Scraping page 173\n",
      "Scraping page 174\n",
      "Scraping page 175\n",
      "Scraping page 176\n",
      "Scraping page 177\n",
      "Scraping page 178\n",
      "Scraping page 179\n",
      "Scraping page 180\n",
      "Scraping page 181\n",
      "Scraping page 182\n",
      "Scraping page 183\n",
      "Scraping page 184\n",
      "Scraping page 185\n",
      "Scraping page 186\n",
      "Scraping page 187\n",
      "Scraping page 188\n",
      "Scraping page 189\n",
      "Scraping page 190\n",
      "Scraping page 191\n",
      "Scraping page 192\n",
      "Scraping page 193\n",
      "Scraping page 194\n",
      "Scraping page 195\n",
      "Scraping page 196\n",
      "Scraping page 197\n",
      "Scraping page 198\n",
      "Scraping page 199\n",
      "Scraping page 200\n",
      "Scraping page 201\n",
      "Scraping page 202\n",
      "Scraping page 203\n",
      "Scraping page 204\n",
      "Scraping page 205\n",
      "Scraping page 206\n",
      "Scraping page 207\n",
      "Scraping page 208\n",
      "Scraping page 209\n",
      "Scraping page 210\n",
      "Scraping page 211\n",
      "Scraping page 212\n",
      "Scraping page 213\n",
      "Scraping page 214\n",
      "Scraping page 215\n",
      "Scraping page 216\n",
      "Scraping page 217\n",
      "Scraping page 218\n",
      "Scraping page 219\n",
      "Scraping page 220\n",
      "Scraping page 221\n",
      "Scraping page 222\n",
      "Scraping page 223\n",
      "Scraping page 224\n",
      "Scraping page 225\n",
      "Scraping page 226\n",
      "Scraping page 227\n",
      "Scraping page 228\n",
      "Scraping page 229\n",
      "Scraping page 230\n",
      "Scraping page 231\n",
      "Scraping page 232\n",
      "Scraping page 233\n",
      "Scraping page 234\n",
      "Scraping page 235\n",
      "Scraping page 236\n",
      "Scraping page 237\n",
      "Scraping page 238\n",
      "Scraping page 239\n",
      "Scraping page 240\n",
      "Scraping page 241\n",
      "Scraping page 242\n",
      "Scraping page 243\n",
      "Scraping page 244\n",
      "Scraping page 245\n",
      "Scraping page 246\n",
      "Scraping page 247\n",
      "Scraping page 248\n",
      "Scraping page 249\n",
      "Scraping page 250\n",
      "Scraping page 251\n",
      "Scraping page 252\n",
      "Scraping page 253\n",
      "Scraping page 254\n",
      "Scraping page 255\n",
      "Scraping page 256\n",
      "Scraping page 257\n",
      "Scraping page 258\n",
      "Scraping page 259\n",
      "Scraping page 260\n",
      "Scraping page 261\n",
      "Scraping page 262\n",
      "Scraping page 263\n",
      "Scraping page 264\n",
      "Scraping page 265\n",
      "Scraping page 266\n",
      "Scraping page 267\n",
      "Scraping page 268\n",
      "Scraping page 269\n",
      "Scraping page 270\n",
      "Scraping page 271\n",
      "Scraping page 272\n",
      "Scraping page 273\n",
      "Scraping page 274\n",
      "Scraping page 275\n",
      "Scraping page 276\n",
      "Scraping page 277\n",
      "Scraping page 278\n",
      "Scraping page 279\n",
      "Scraping page 280\n",
      "Scraping page 281\n",
      "Scraping page 282\n",
      "Scraping page 283\n",
      "Scraping page 284\n",
      "Scraping page 285\n",
      "Scraping page 286\n",
      "Scraping page 287\n",
      "Scraping page 288\n",
      "Scraping page 289\n",
      "Scraping page 290\n",
      "Scraping page 291\n",
      "Scraping page 292\n",
      "Scraping page 293\n",
      "Scraping page 294\n",
      "Scraping page 295\n",
      "Scraping page 296\n",
      "Scraping page 297\n",
      "Scraping page 298\n",
      "Scraping page 299\n",
      "Scraping page 300\n",
      "Scraping page 301\n",
      "Scraping page 302\n",
      "Scraping page 303\n",
      "Scraping page 304\n",
      "Scraping page 305\n",
      "Scraping page 306\n",
      "Scraping page 307\n",
      "Scraping page 308\n",
      "Scraping page 309\n",
      "Scraping page 310\n",
      "Scraping page 311\n",
      "Scraping page 312\n",
      "Scraping page 313\n",
      "Scraping page 314\n",
      "Scraping page 315\n",
      "Scraping page 316\n",
      "Scraping page 317\n",
      "Scraping page 318\n",
      "Scraping page 319\n",
      "Scraping page 320\n",
      "Scraping page 321\n",
      "Scraping page 322\n",
      "Scraping page 323\n",
      "Scraping page 324\n",
      "Scraping page 325\n",
      "Scraping page 326\n",
      "Scraping page 327\n",
      "Scraping page 328\n",
      "Scraping page 329\n",
      "Scraping page 330\n",
      "Scraping page 331\n",
      "Scraping page 332\n",
      "Scraping page 333\n",
      "Scraping page 334\n",
      "Scraping page 335\n",
      "Scraping page 336\n",
      "Scraping page 337\n",
      "Scraping page 338\n",
      "Scraping page 339\n",
      "Scraping page 340\n",
      "Scraping page 341\n",
      "Scraping page 342\n",
      "Scraping page 343\n",
      "Scraping page 344\n",
      "Scraping page 345\n",
      "Scraping page 346\n",
      "Scraping page 347\n",
      "Scraping page 348\n",
      "Scraping page 349\n",
      "Scraping page 350\n",
      "Scraping page 351\n",
      "Scraping page 352\n",
      "Scraping page 353\n",
      "Scraping page 354\n",
      "Scraping page 355\n",
      "Scraping page 356\n",
      "Scraping page 357\n",
      "Scraping page 358\n",
      "Scraping page 359\n",
      "Scraping page 360\n",
      "Scraping page 361\n",
      "Scraping page 362\n",
      "Scraping page 363\n",
      "Scraping page 364\n",
      "Scraping page 365\n",
      "Scraping page 366\n",
      "Scraping page 367\n",
      "Scraping page 368\n",
      "Scraping page 369\n",
      "Scraping page 370\n",
      "Scraping page 371\n",
      "Scraping page 372\n",
      "Scraping page 373\n",
      "Scraping page 374\n",
      "Scraping page 375\n",
      "Scraping page 376\n",
      "Scraping page 377\n",
      "Scraping page 378\n",
      "Scraping page 379\n",
      "Scraping page 380\n",
      "Scraping page 381\n",
      "Scraping page 382\n",
      "Scraping page 383\n",
      "Scraping page 384\n",
      "Scraping page 385\n",
      "Scraping page 386\n",
      "Scraping page 387\n",
      "Scraping page 388\n",
      "Scraping page 389\n",
      "Scraping page 390\n",
      "Scraping page 391\n",
      "Scraping page 392\n",
      "Scraping page 393\n",
      "Scraping page 394\n",
      "Scraping page 395\n",
      "Scraping page 396\n",
      "Scraping page 397\n",
      "Scraping page 398\n",
      "Scraping page 399\n",
      "Scraping page 400\n",
      "Scraping page 401\n",
      "Scraping page 402\n",
      "Scraping page 403\n",
      "Scraping page 404\n",
      "Scraping page 405\n",
      "Scraping page 406\n",
      "Scraping page 407\n",
      "Scraping page 408\n",
      "Scraping page 409\n",
      "Scraping page 410\n",
      "Scraping page 411\n",
      "Scraping page 412\n",
      "Scraping page 413\n",
      "Scraping page 414\n",
      "Scraping page 415\n",
      "Scraping page 416\n",
      "Scraping page 417\n",
      "Scraping page 418\n",
      "Scraping page 419\n",
      "Scraping page 420\n",
      "Scraping page 421\n",
      "Scraping page 422\n",
      "Scraping page 423\n",
      "Scraping page 424\n",
      "Scraping page 425\n",
      "Scraping page 426\n",
      "Scraping page 427\n",
      "Scraping page 428\n",
      "Scraping page 429\n",
      "Scraping page 430\n",
      "Scraping page 431\n",
      "Scraping page 432\n",
      "Scraping page 433\n",
      "Scraping page 434\n",
      "Scraping page 435\n",
      "Scraping page 436\n",
      "Scraping page 437\n",
      "Scraping page 438\n",
      "Scraping page 439\n",
      "Scraping page 440\n",
      "Scraping page 441\n",
      "Scraping page 442\n",
      "Scraping page 443\n",
      "Scraping page 444\n",
      "Scraping page 445\n",
      "Scraping page 446\n",
      "Scraping page 447\n",
      "Scraping page 448\n",
      "Scraping page 449\n",
      "Scraping page 450\n",
      "Scraping page 451\n",
      "Scraping page 452\n",
      "Scraping page 453\n",
      "Scraping page 454\n",
      "Scraping page 455\n",
      "Scraping page 456\n",
      "Scraping page 457\n",
      "Scraping page 458\n",
      "Scraping page 459\n"
     ]
    },
    {
     "name": "stdout",
     "output_type": "stream",
     "text": [
      "Scraping page 460\n",
      "Scraping page 461\n",
      "Scraping page 462\n",
      "Scraping page 463\n",
      "Scraping page 464\n",
      "Scraping page 465\n",
      "Scraping page 466\n",
      "Scraping page 467\n",
      "Scraping page 468\n",
      "Scraping page 469\n",
      "Scraping page 470\n",
      "Scraping page 471\n",
      "Scraping page 472\n",
      "Scraping page 473\n",
      "Scraping page 474\n",
      "Scraping page 475\n",
      "Scraping page 476\n",
      "Scraping page 477\n",
      "Scraping page 478\n",
      "Scraping page 479\n",
      "Scraping page 480\n",
      "Scraping page 481\n",
      "Scraping page 482\n",
      "Scraping page 483\n",
      "Scraping page 484\n",
      "Scraping page 485\n",
      "Scraping page 486\n",
      "Scraping page 487\n",
      "Scraping page 488\n",
      "Scraping page 489\n",
      "Scraping page 490\n",
      "Scraping page 491\n",
      "Scraping page 492\n",
      "Scraping page 493\n",
      "Scraping page 494\n",
      "Scraping page 495\n",
      "Scraping page 496\n",
      "Scraping page 497\n",
      "Scraping page 498\n",
      "Scraping page 499\n",
      "Scraping page 500\n",
      "Scraping page 501\n",
      "Scraping page 502\n",
      "Scraping page 503\n",
      "Scraping page 504\n",
      "Scraping page 505\n",
      "Scraping page 506\n",
      "Scraping page 507\n",
      "Scraping page 508\n",
      "Scraping page 509\n",
      "Scraping page 510\n",
      "Scraping page 511\n",
      "Scraping page 512\n",
      "Scraping page 513\n",
      "Scraping page 514\n",
      "Scraping page 515\n",
      "Scraping page 516\n",
      "Scraping page 517\n",
      "Scraping page 518\n",
      "Scraping page 519\n",
      "Scraping page 520\n",
      "Scraping page 521\n",
      "Scraping page 522\n",
      "Scraping page 523\n",
      "Scraping page 524\n",
      "Scraping page 525\n",
      "Scraping page 526\n",
      "Scraping page 527\n",
      "Scraping page 528\n",
      "Scraping page 529\n",
      "Scraping page 530\n",
      "Scraping page 531\n",
      "Scraping page 532\n",
      "Scraping page 533\n",
      "Scraping page 534\n",
      "Scraping page 535\n",
      "Scraping page 536\n",
      "Scraping page 537\n",
      "Scraping page 538\n",
      "Scraping page 539\n",
      "Scraping page 540\n",
      "Scraping page 541\n",
      "Scraping page 542\n",
      "Scraping page 543\n",
      "Scraping page 544\n",
      "Scraping page 545\n",
      "Scraping page 546\n",
      "Scraping page 547\n",
      "Scraping page 548\n",
      "Scraping page 549\n",
      "Scraping page 550\n",
      "Scraping page 551\n",
      "Scraping page 552\n",
      "Scraping page 553\n",
      "Scraping page 554\n",
      "Scraping page 555\n",
      "Scraping page 556\n",
      "Scraping page 557\n",
      "Scraping page 558\n",
      "Scraping page 559\n",
      "Scraping page 560\n",
      "Scraping page 561\n",
      "Scraping page 562\n",
      "Scraping page 563\n",
      "Scraping page 564\n",
      "Scraping page 565\n",
      "Scraping page 566\n",
      "Scraping page 567\n",
      "Scraping page 568\n",
      "Scraping page 569\n",
      "Scraping page 570\n",
      "Scraping page 571\n",
      "Scraping page 572\n",
      "Scraping page 573\n",
      "Scraping page 574\n",
      "Scraping page 575\n",
      "Scraping page 576\n",
      "Scraping page 577\n",
      "Scraping page 578\n",
      "Scraping page 579\n",
      "Scraping page 580\n",
      "Scraping page 581\n",
      "Scraping page 582\n",
      "Scraping page 583\n",
      "Scraping page 584\n",
      "Scraping page 585\n",
      "Scraping page 586\n",
      "Scraping page 587\n",
      "Scraping page 588\n",
      "Scraping page 589\n",
      "Scraping page 590\n",
      "Scraping page 591\n",
      "Scraping page 592\n",
      "Scraping page 593\n",
      "Scraping page 594\n",
      "Scraping page 595\n",
      "Scraping page 596\n",
      "Scraping page 597\n",
      "Scraping page 598\n",
      "Scraping page 599\n",
      "Scraping page 600\n",
      "Scraping page 601\n",
      "Scraping page 602\n",
      "Scraping page 603\n",
      "Scraping page 604\n",
      "Scraping page 605\n",
      "Scraping page 606\n",
      "Scraping page 607\n",
      "Scraping page 608\n",
      "Scraping page 609\n",
      "Scraping page 610\n",
      "Scraping page 611\n",
      "Scraping page 612\n",
      "Scraping page 613\n",
      "Scraping page 614\n",
      "Scraping page 615\n",
      "Scraping page 616\n",
      "Scraping page 617\n",
      "Scraping page 618\n",
      "Scraping page 619\n",
      "Scraping page 620\n",
      "Scraping page 621\n",
      "Scraping page 622\n",
      "Scraping page 623\n",
      "Scraping page 624\n",
      "Scraping page 625\n",
      "Scraping page 626\n",
      "Scraping page 627\n",
      "Scraping page 628\n",
      "Scraping page 629\n",
      "Scraping page 630\n",
      "Scraping page 631\n",
      "Scraping page 632\n",
      "Scraping page 633\n",
      "Scraping page 634\n",
      "Scraping page 635\n",
      "Scraping page 636\n",
      "Scraping page 637\n",
      "Scraping page 638\n",
      "Scraping page 639\n",
      "Scraping page 640\n",
      "Scraping page 641\n",
      "Scraping page 642\n",
      "Scraping page 643\n",
      "Scraping page 644\n",
      "Scraping page 645\n",
      "Scraping page 646\n",
      "Scraping page 647\n",
      "Scraping page 648\n",
      "Scraping page 649\n",
      "Scraping page 650\n",
      "Scraping page 651\n",
      "Scraping page 652\n",
      "Scraping page 653\n",
      "Scraping page 654\n",
      "Scraping page 655\n",
      "Scraping page 656\n",
      "Scraping page 657\n",
      "Scraping page 658\n",
      "Scraping page 659\n",
      "Scraping page 660\n",
      "Scraping page 661\n",
      "Scraping page 662\n",
      "Scraping page 663\n",
      "Scraping page 664\n",
      "Scraping page 665\n",
      "Scraping page 666\n",
      "Scraping page 667\n",
      "Scraping page 668\n",
      "Scraping page 669\n",
      "Scraping page 670\n",
      "Scraping page 671\n",
      "Scraping page 672\n",
      "Scraping page 673\n",
      "Scraping page 674\n",
      "Scraping page 675\n",
      "Scraping page 676\n",
      "Scraping page 677\n",
      "Scraping page 678\n",
      "Scraping page 679\n",
      "Scraping page 680\n",
      "Scraping page 681\n",
      "Scraping page 682\n",
      "Scraping page 683\n",
      "Scraping page 684\n",
      "Scraping page 685\n",
      "Scraping page 686\n",
      "Scraping page 687\n",
      "Scraping page 688\n",
      "Scraping page 689\n",
      "Scraping page 690\n",
      "Scraping page 691\n",
      "Scraping page 692\n",
      "Scraping page 693\n",
      "Scraping page 694\n",
      "Scraping page 695\n",
      "Scraping page 696\n",
      "Scraping page 697\n",
      "Scraping page 698\n",
      "Scraping page 699\n",
      "Scraping page 700\n",
      "Scraping page 701\n",
      "Scraping page 702\n",
      "Scraping page 703\n",
      "Scraping page 704\n",
      "Scraping page 705\n",
      "Scraping page 706\n",
      "Scraping page 707\n",
      "Scraping page 708\n",
      "Scraping page 709\n",
      "Scraping page 710\n",
      "Scraping page 711\n",
      "Scraping page 712\n",
      "Scraping page 713\n",
      "Scraping page 714\n",
      "Scraping page 715\n",
      "Scraping page 716\n",
      "Scraping page 717\n",
      "Scraping page 718\n",
      "Scraping page 719\n",
      "Scraping page 720\n",
      "Scraping page 721\n",
      "Scraping page 722\n",
      "Scraping page 723\n",
      "Scraping page 724\n",
      "Scraping page 725\n",
      "Scraping page 726\n",
      "Scraping page 727\n",
      "Scraping page 728\n",
      "Scraping page 729\n",
      "Scraping page 730\n",
      "Scraping page 731\n",
      "Scraping page 732\n",
      "Scraping page 733\n",
      "Scraping page 734\n",
      "Scraping page 735\n",
      "Scraping page 736\n",
      "Scraping page 737\n",
      "Scraping page 738\n",
      "Scraping page 739\n",
      "Scraping page 740\n",
      "Scraping page 741\n",
      "Scraping page 742\n",
      "Scraping page 743\n",
      "Scraping page 744\n",
      "Scraping page 745\n",
      "Scraping page 746\n",
      "Scraping page 747\n",
      "Scraping page 748\n",
      "Scraping page 749\n",
      "Scraping page 750\n",
      "Scraping page 751\n",
      "Scraping page 752\n",
      "Scraping page 753\n",
      "Scraping page 754\n",
      "Scraping page 755\n",
      "Scraping page 756\n",
      "Scraping page 757\n",
      "Scraping page 758\n",
      "Scraping page 759\n",
      "Scraping page 760\n",
      "Scraping page 761\n",
      "Scraping page 762\n",
      "Scraping page 763\n",
      "Scraping page 764\n",
      "Scraping page 765\n",
      "Scraping page 766\n",
      "Scraping page 767\n",
      "Scraping page 768\n",
      "Scraping page 769\n",
      "Scraping page 770\n",
      "Scraping page 771\n",
      "Scraping page 772\n",
      "Scraping page 773\n",
      "Scraping page 774\n",
      "Scraping page 775\n",
      "Scraping page 776\n",
      "Scraping page 777\n",
      "Scraping page 778\n",
      "Scraping page 779\n",
      "Scraping page 780\n",
      "Scraping page 781\n",
      "Scraping page 782\n",
      "Scraping page 783\n",
      "Scraping page 784\n",
      "Scraping page 785\n",
      "Scraping page 786\n",
      "Scraping page 787\n",
      "Scraping page 788\n",
      "Scraping page 789\n",
      "Scraping page 790\n",
      "Scraping page 791\n",
      "Scraping page 792\n",
      "Scraping page 793\n",
      "Scraping page 794\n",
      "Scraping page 795\n",
      "Scraping page 796\n",
      "Scraping page 797\n",
      "Scraping page 798\n",
      "Scraping page 799\n",
      "Scraping page 800\n",
      "Scraping page 801\n",
      "Scraping page 802\n",
      "Scraping page 803\n",
      "Scraping page 804\n",
      "Scraping page 805\n",
      "Scraping page 806\n",
      "Scraping page 807\n",
      "Scraping page 808\n",
      "Scraping page 809\n",
      "Scraping page 810\n",
      "Scraping page 811\n",
      "Scraping page 812\n",
      "Scraping page 813\n",
      "Scraping page 814\n",
      "Scraping page 815\n",
      "Scraping page 816\n",
      "Scraping page 817\n",
      "Scraping page 818\n",
      "Scraping page 819\n",
      "Scraping page 820\n",
      "Scraping page 821\n",
      "Scraping page 822\n",
      "Scraping page 823\n",
      "Scraping page 824\n",
      "Scraping page 825\n",
      "Scraping page 826\n",
      "Scraping page 827\n",
      "Scraping page 828\n",
      "Scraping page 829\n",
      "Scraping page 830\n",
      "Scraping page 831\n",
      "Scraping page 832\n",
      "Scraping page 833\n",
      "Scraping page 834\n",
      "Scraping page 835\n",
      "Scraping page 836\n",
      "Scraping page 837\n",
      "Scraping page 838\n",
      "Scraping page 839\n",
      "Scraping page 840\n",
      "Scraping page 841\n",
      "Scraping page 842\n",
      "Scraping page 843\n",
      "Scraping page 844\n",
      "Scraping page 845\n",
      "Scraping page 846\n",
      "Scraping page 847\n",
      "Scraping page 848\n",
      "Scraping page 849\n",
      "Scraping page 850\n",
      "Scraping page 851\n",
      "Scraping page 852\n",
      "Scraping page 853\n",
      "Scraping page 854\n",
      "Scraping page 855\n",
      "Scraping page 856\n",
      "Scraping page 857\n",
      "Scraping page 858\n",
      "Scraping page 859\n",
      "Scraping page 860\n",
      "Scraping page 861\n",
      "Scraping page 862\n",
      "Scraping page 863\n",
      "Scraping page 864\n",
      "Scraping page 865\n",
      "Scraping page 866\n",
      "Scraping page 867\n",
      "Scraping page 868\n",
      "Scraping page 869\n",
      "Scraping page 870\n",
      "Scraping page 871\n",
      "Scraping page 872\n",
      "Scraping page 873\n",
      "Scraping page 874\n",
      "Scraping page 875\n",
      "Scraping page 876\n",
      "Scraping page 877\n",
      "Scraping page 878\n",
      "Scraping page 879\n",
      "Scraping page 880\n",
      "Scraping page 881\n",
      "Scraping page 882\n",
      "Scraping page 883\n",
      "Scraping page 884\n",
      "Scraping page 885\n",
      "Scraping page 886\n",
      "Scraping page 887\n",
      "Scraping page 888\n",
      "Scraping page 889\n",
      "Scraping page 890\n",
      "Scraping page 891\n",
      "Scraping page 892\n",
      "Scraping page 893\n",
      "Scraping page 894\n",
      "Scraping page 895\n",
      "Scraping page 896\n",
      "Scraping page 897\n",
      "Scraping page 898\n",
      "Scraping page 899\n",
      "Scraping page 900\n",
      "Scraping page 901\n",
      "Scraping page 902\n",
      "Scraping page 903\n",
      "Scraping page 904\n",
      "Scraping page 905\n",
      "Scraping page 906\n",
      "Scraping page 907\n",
      "Scraping page 908\n",
      "Scraping page 909\n",
      "Scraping page 910\n",
      "Scraping page 911\n",
      "Scraping page 912\n",
      "Scraping page 913\n",
      "Scraping page 914\n",
      "Scraping page 915\n"
     ]
    },
    {
     "name": "stdout",
     "output_type": "stream",
     "text": [
      "Scraping page 916\n",
      "Scraping page 917\n",
      "Scraping page 918\n",
      "Scraping page 919\n",
      "Scraping page 920\n",
      "Scraping page 921\n",
      "Scraping page 922\n",
      "Scraping page 923\n",
      "Scraping page 924\n",
      "Scraping page 925\n",
      "Scraping page 926\n",
      "Scraping page 927\n",
      "Scraping page 928\n",
      "Scraping page 929\n",
      "Scraping page 930\n",
      "Scraping page 931\n",
      "Scraping page 932\n",
      "Scraping page 933\n",
      "Scraping page 934\n",
      "Scraping page 935\n",
      "Scraping page 936\n",
      "Scraping page 937\n",
      "Scraping page 938\n",
      "Scraping page 939\n",
      "Scraping page 940\n",
      "Scraping page 941\n",
      "Scraping page 942\n",
      "Scraping page 943\n",
      "Scraping page 944\n",
      "Scraping page 945\n",
      "Scraping page 946\n",
      "Scraping page 947\n",
      "Scraping page 948\n",
      "Scraping page 949\n",
      "Scraping page 950\n",
      "Scraping page 951\n",
      "Scraping page 952\n",
      "Scraping page 953\n",
      "Scraping page 954\n",
      "Scraping page 955\n",
      "Scraping page 956\n",
      "Scraping page 957\n",
      "Scraping page 958\n",
      "Scraping page 959\n",
      "Scraping page 960\n",
      "Scraping page 961\n",
      "Scraping page 962\n",
      "Scraping page 963\n",
      "Scraping page 964\n",
      "Scraping page 965\n",
      "Scraping page 966\n",
      "Scraping page 967\n",
      "Scraping page 968\n",
      "Scraping page 969\n",
      "Scraping page 970\n",
      "Scraping page 971\n",
      "Scraping page 972\n",
      "Scraping page 973\n",
      "Scraping page 974\n",
      "Scraping page 975\n",
      "Scraping page 976\n",
      "Scraping page 977\n",
      "Scraping page 978\n",
      "Scraping page 979\n",
      "Scraping page 980\n",
      "Scraping page 981\n",
      "Scraping page 982\n",
      "Scraping page 983\n",
      "Scraping page 984\n",
      "Scraping page 985\n",
      "Scraping page 986\n",
      "Scraping page 987\n",
      "Scraping page 988\n",
      "Scraping page 989\n",
      "Scraping page 990\n",
      "Scraping page 991\n",
      "Scraping page 992\n",
      "Scraping page 993\n",
      "Scraping page 994\n",
      "Scraping page 995\n",
      "Scraping page 996\n",
      "Scraping page 997\n",
      "Scraping page 998\n",
      "Scraping page 999\n",
      "Scraping page 1000\n",
      "#########Scrapping completed successfully ...########\n"
     ]
    }
   ],
   "source": [
    "data = DataCollection\n",
    "ba_reviews = data.british_airways_data_scraper(pages=1000)\n"
   ]
  },
  {
   "cell_type": "code",
   "execution_count": 3,
   "id": "d2581a84",
   "metadata": {},
   "outputs": [],
   "source": [
    "df = pd.DataFrame()\n",
    "df['reviews'] = ba_reviews\n",
    "# df.head()\n",
    "\n",
    "# Save to csv\n",
    "df.to_csv('./data/BA/BA_reviews.csv')"
   ]
  },
  {
   "cell_type": "code",
   "execution_count": 4,
   "id": "73b4721d",
   "metadata": {},
   "outputs": [
    {
     "data": {
      "text/html": [
       "<div>\n",
       "<style scoped>\n",
       "    .dataframe tbody tr th:only-of-type {\n",
       "        vertical-align: middle;\n",
       "    }\n",
       "\n",
       "    .dataframe tbody tr th {\n",
       "        vertical-align: top;\n",
       "    }\n",
       "\n",
       "    .dataframe thead th {\n",
       "        text-align: right;\n",
       "    }\n",
       "</style>\n",
       "<table border=\"1\" class=\"dataframe\">\n",
       "  <thead>\n",
       "    <tr style=\"text-align: right;\">\n",
       "      <th></th>\n",
       "      <th>Unnamed: 0.1</th>\n",
       "      <th>reviews</th>\n",
       "    </tr>\n",
       "  </thead>\n",
       "  <tbody>\n",
       "    <tr>\n",
       "      <th>0</th>\n",
       "      <td>0</td>\n",
       "      <td>✅ Trip Verified |  Easy check in a T5. Galleri...</td>\n",
       "    </tr>\n",
       "    <tr>\n",
       "      <th>1</th>\n",
       "      <td>1</td>\n",
       "      <td>Not Verified |  Flight delayed by an hour, it ...</td>\n",
       "    </tr>\n",
       "    <tr>\n",
       "      <th>2</th>\n",
       "      <td>2</td>\n",
       "      <td>Not Verified | The staff are very rude and not...</td>\n",
       "    </tr>\n",
       "    <tr>\n",
       "      <th>3</th>\n",
       "      <td>3</td>\n",
       "      <td>✅ Trip Verified |  Good domestic flight operat...</td>\n",
       "    </tr>\n",
       "    <tr>\n",
       "      <th>4</th>\n",
       "      <td>4</td>\n",
       "      <td>Not Verified | Failed at all basic travel fund...</td>\n",
       "    </tr>\n",
       "    <tr>\n",
       "      <th>...</th>\n",
       "      <td>...</td>\n",
       "      <td>...</td>\n",
       "    </tr>\n",
       "    <tr>\n",
       "      <th>3619</th>\n",
       "      <td>3619</td>\n",
       "      <td>Flight from Heathrow to Toronto. Booked emerge...</td>\n",
       "    </tr>\n",
       "    <tr>\n",
       "      <th>3620</th>\n",
       "      <td>3620</td>\n",
       "      <td>LHR to HAM. Purser addresses all club passenge...</td>\n",
       "    </tr>\n",
       "    <tr>\n",
       "      <th>3621</th>\n",
       "      <td>3621</td>\n",
       "      <td>My son who had worked for British Airways urge...</td>\n",
       "    </tr>\n",
       "    <tr>\n",
       "      <th>3622</th>\n",
       "      <td>3622</td>\n",
       "      <td>London City-New York JFK via Shannon on A318 b...</td>\n",
       "    </tr>\n",
       "    <tr>\n",
       "      <th>3623</th>\n",
       "      <td>3623</td>\n",
       "      <td>SIN-LHR BA12 B747-436 First Class. Old aircraf...</td>\n",
       "    </tr>\n",
       "  </tbody>\n",
       "</table>\n",
       "<p>3624 rows × 2 columns</p>\n",
       "</div>"
      ],
      "text/plain": [
       "      Unnamed: 0.1                                            reviews\n",
       "0                0  ✅ Trip Verified |  Easy check in a T5. Galleri...\n",
       "1                1  Not Verified |  Flight delayed by an hour, it ...\n",
       "2                2  Not Verified | The staff are very rude and not...\n",
       "3                3  ✅ Trip Verified |  Good domestic flight operat...\n",
       "4                4  Not Verified | Failed at all basic travel fund...\n",
       "...            ...                                                ...\n",
       "3619          3619  Flight from Heathrow to Toronto. Booked emerge...\n",
       "3620          3620  LHR to HAM. Purser addresses all club passenge...\n",
       "3621          3621  My son who had worked for British Airways urge...\n",
       "3622          3622  London City-New York JFK via Shannon on A318 b...\n",
       "3623          3623  SIN-LHR BA12 B747-436 First Class. Old aircraf...\n",
       "\n",
       "[3624 rows x 2 columns]"
      ]
     },
     "execution_count": 4,
     "metadata": {},
     "output_type": "execute_result"
    }
   ],
   "source": [
    "#RRead from csv file\n",
    "df = pd.read_csv('./data/BA/BA_reviews.csv')\n",
    "df.drop('Unnamed: 0', axis=1)"
   ]
  },
  {
   "cell_type": "code",
   "execution_count": 5,
   "id": "f48ecca4",
   "metadata": {},
   "outputs": [
    {
     "data": {
      "text/plain": [
       "\"SIN-LHR BA12 B747-436 First Class. Old aircraft (1998) with seats that are not that private but there are only a few of us in the cabin so ok. A bit tatty but I think the planes are being replaced by A380's soon. Seat itself is comfortable enough. Inflight Entertainment awful: fuzzy screen (low resolution LCD screen way passed it's sell-by date) with limited options. Inconveniently has to be pulled around to be seen and put away for t/off and landing. seat comfortable enough for sleeping. Food and service quintessentially English which is the only real reason to fly BA nowadays - the product just doesn't match other airlines. Toilet cramped and awful but it has a window!\""
      ]
     },
     "execution_count": 5,
     "metadata": {},
     "output_type": "execute_result"
    }
   ],
   "source": [
    "#Cleaning\n",
    "df.reviews = df.reviews.str.strip('Not Verified |')\n",
    "\n",
    "df.reviews = df.reviews.str.strip('✅ Trip Verified |  ')\n",
    "\n",
    "df.reviews[3623]"
   ]
  },
  {
   "cell_type": "code",
   "execution_count": 6,
   "id": "44ec2c75",
   "metadata": {},
   "outputs": [],
   "source": [
    "#Implement the sentiment analysis\n",
    "sentiment_analysis = CustomSentimentAnalyzer\n",
    "df = sentiment_analysis.lower_case(df, 'reviews')\n",
    "df = sentiment_analysis.sentiment_analyzer(df, 'reviews')"
   ]
  },
  {
   "cell_type": "code",
   "execution_count": 7,
   "id": "07713a0d",
   "metadata": {},
   "outputs": [
    {
     "data": {
      "application/vnd.plotly.v1+json": {
       "config": {
        "linkText": "Export to plot.ly",
        "plotlyServerURL": "https://plot.ly",
        "showLink": false
       },
       "data": [
        {
         "marker": {
          "color": [
           "#00b500",
           "#8b4219",
           "#EBE00C"
          ],
          "line": {
           "color": "#DBE6EC",
           "width": 1
          }
         },
         "name": "sentiment",
         "showlegend": false,
         "text": [
          "2109",
          "1492",
          "23"
         ],
         "textposition": "auto",
         "type": "bar",
         "x": [
          "Positive",
          "Negative",
          "Neutral"
         ],
         "xaxis": "x",
         "y": [
          2109,
          1492,
          23
         ],
         "yaxis": "y"
        },
        {
         "domain": {
          "x": [
           0.55,
           1
          ],
          "y": [
           0,
           1
          ]
         },
         "labels": [
          "Positive",
          "Negative",
          "Neutral"
         ],
         "marker": {
          "colors": [
           "#00b500",
           "#8b4219",
           "#EBE00C"
          ]
         },
         "showlegend": false,
         "textfont": {
          "size": 18
         },
         "textposition": "auto",
         "type": "pie",
         "values": [
          2109,
          1492,
          23
         ]
        }
       ],
       "layout": {
        "annotations": [
         {
          "font": {
           "size": 16
          },
          "showarrow": false,
          "text": "Countplot",
          "x": 0.225,
          "xanchor": "center",
          "xref": "paper",
          "y": 1,
          "yanchor": "bottom",
          "yref": "paper"
         },
         {
          "font": {
           "size": 16
          },
          "showarrow": false,
          "text": "Percentage",
          "x": 0.775,
          "xanchor": "center",
          "xref": "paper",
          "y": 1,
          "yanchor": "bottom",
          "yref": "paper"
         }
        ],
        "template": {
         "data": {
          "bar": [
           {
            "error_x": {
             "color": "#2a3f5f"
            },
            "error_y": {
             "color": "#2a3f5f"
            },
            "marker": {
             "line": {
              "color": "white",
              "width": 0.5
             },
             "pattern": {
              "fillmode": "overlay",
              "size": 10,
              "solidity": 0.2
             }
            },
            "type": "bar"
           }
          ],
          "barpolar": [
           {
            "marker": {
             "line": {
              "color": "white",
              "width": 0.5
             },
             "pattern": {
              "fillmode": "overlay",
              "size": 10,
              "solidity": 0.2
             }
            },
            "type": "barpolar"
           }
          ],
          "carpet": [
           {
            "aaxis": {
             "endlinecolor": "#2a3f5f",
             "gridcolor": "#C8D4E3",
             "linecolor": "#C8D4E3",
             "minorgridcolor": "#C8D4E3",
             "startlinecolor": "#2a3f5f"
            },
            "baxis": {
             "endlinecolor": "#2a3f5f",
             "gridcolor": "#C8D4E3",
             "linecolor": "#C8D4E3",
             "minorgridcolor": "#C8D4E3",
             "startlinecolor": "#2a3f5f"
            },
            "type": "carpet"
           }
          ],
          "choropleth": [
           {
            "colorbar": {
             "outlinewidth": 0,
             "ticks": ""
            },
            "type": "choropleth"
           }
          ],
          "contour": [
           {
            "colorbar": {
             "outlinewidth": 0,
             "ticks": ""
            },
            "colorscale": [
             [
              0,
              "#0d0887"
             ],
             [
              0.1111111111111111,
              "#46039f"
             ],
             [
              0.2222222222222222,
              "#7201a8"
             ],
             [
              0.3333333333333333,
              "#9c179e"
             ],
             [
              0.4444444444444444,
              "#bd3786"
             ],
             [
              0.5555555555555556,
              "#d8576b"
             ],
             [
              0.6666666666666666,
              "#ed7953"
             ],
             [
              0.7777777777777778,
              "#fb9f3a"
             ],
             [
              0.8888888888888888,
              "#fdca26"
             ],
             [
              1,
              "#f0f921"
             ]
            ],
            "type": "contour"
           }
          ],
          "contourcarpet": [
           {
            "colorbar": {
             "outlinewidth": 0,
             "ticks": ""
            },
            "type": "contourcarpet"
           }
          ],
          "heatmap": [
           {
            "colorbar": {
             "outlinewidth": 0,
             "ticks": ""
            },
            "colorscale": [
             [
              0,
              "#0d0887"
             ],
             [
              0.1111111111111111,
              "#46039f"
             ],
             [
              0.2222222222222222,
              "#7201a8"
             ],
             [
              0.3333333333333333,
              "#9c179e"
             ],
             [
              0.4444444444444444,
              "#bd3786"
             ],
             [
              0.5555555555555556,
              "#d8576b"
             ],
             [
              0.6666666666666666,
              "#ed7953"
             ],
             [
              0.7777777777777778,
              "#fb9f3a"
             ],
             [
              0.8888888888888888,
              "#fdca26"
             ],
             [
              1,
              "#f0f921"
             ]
            ],
            "type": "heatmap"
           }
          ],
          "heatmapgl": [
           {
            "colorbar": {
             "outlinewidth": 0,
             "ticks": ""
            },
            "colorscale": [
             [
              0,
              "#0d0887"
             ],
             [
              0.1111111111111111,
              "#46039f"
             ],
             [
              0.2222222222222222,
              "#7201a8"
             ],
             [
              0.3333333333333333,
              "#9c179e"
             ],
             [
              0.4444444444444444,
              "#bd3786"
             ],
             [
              0.5555555555555556,
              "#d8576b"
             ],
             [
              0.6666666666666666,
              "#ed7953"
             ],
             [
              0.7777777777777778,
              "#fb9f3a"
             ],
             [
              0.8888888888888888,
              "#fdca26"
             ],
             [
              1,
              "#f0f921"
             ]
            ],
            "type": "heatmapgl"
           }
          ],
          "histogram": [
           {
            "marker": {
             "pattern": {
              "fillmode": "overlay",
              "size": 10,
              "solidity": 0.2
             }
            },
            "type": "histogram"
           }
          ],
          "histogram2d": [
           {
            "colorbar": {
             "outlinewidth": 0,
             "ticks": ""
            },
            "colorscale": [
             [
              0,
              "#0d0887"
             ],
             [
              0.1111111111111111,
              "#46039f"
             ],
             [
              0.2222222222222222,
              "#7201a8"
             ],
             [
              0.3333333333333333,
              "#9c179e"
             ],
             [
              0.4444444444444444,
              "#bd3786"
             ],
             [
              0.5555555555555556,
              "#d8576b"
             ],
             [
              0.6666666666666666,
              "#ed7953"
             ],
             [
              0.7777777777777778,
              "#fb9f3a"
             ],
             [
              0.8888888888888888,
              "#fdca26"
             ],
             [
              1,
              "#f0f921"
             ]
            ],
            "type": "histogram2d"
           }
          ],
          "histogram2dcontour": [
           {
            "colorbar": {
             "outlinewidth": 0,
             "ticks": ""
            },
            "colorscale": [
             [
              0,
              "#0d0887"
             ],
             [
              0.1111111111111111,
              "#46039f"
             ],
             [
              0.2222222222222222,
              "#7201a8"
             ],
             [
              0.3333333333333333,
              "#9c179e"
             ],
             [
              0.4444444444444444,
              "#bd3786"
             ],
             [
              0.5555555555555556,
              "#d8576b"
             ],
             [
              0.6666666666666666,
              "#ed7953"
             ],
             [
              0.7777777777777778,
              "#fb9f3a"
             ],
             [
              0.8888888888888888,
              "#fdca26"
             ],
             [
              1,
              "#f0f921"
             ]
            ],
            "type": "histogram2dcontour"
           }
          ],
          "mesh3d": [
           {
            "colorbar": {
             "outlinewidth": 0,
             "ticks": ""
            },
            "type": "mesh3d"
           }
          ],
          "parcoords": [
           {
            "line": {
             "colorbar": {
              "outlinewidth": 0,
              "ticks": ""
             }
            },
            "type": "parcoords"
           }
          ],
          "pie": [
           {
            "automargin": true,
            "type": "pie"
           }
          ],
          "scatter": [
           {
            "fillpattern": {
             "fillmode": "overlay",
             "size": 10,
             "solidity": 0.2
            },
            "type": "scatter"
           }
          ],
          "scatter3d": [
           {
            "line": {
             "colorbar": {
              "outlinewidth": 0,
              "ticks": ""
             }
            },
            "marker": {
             "colorbar": {
              "outlinewidth": 0,
              "ticks": ""
             }
            },
            "type": "scatter3d"
           }
          ],
          "scattercarpet": [
           {
            "marker": {
             "colorbar": {
              "outlinewidth": 0,
              "ticks": ""
             }
            },
            "type": "scattercarpet"
           }
          ],
          "scattergeo": [
           {
            "marker": {
             "colorbar": {
              "outlinewidth": 0,
              "ticks": ""
             }
            },
            "type": "scattergeo"
           }
          ],
          "scattergl": [
           {
            "marker": {
             "colorbar": {
              "outlinewidth": 0,
              "ticks": ""
             }
            },
            "type": "scattergl"
           }
          ],
          "scattermapbox": [
           {
            "marker": {
             "colorbar": {
              "outlinewidth": 0,
              "ticks": ""
             }
            },
            "type": "scattermapbox"
           }
          ],
          "scatterpolar": [
           {
            "marker": {
             "colorbar": {
              "outlinewidth": 0,
              "ticks": ""
             }
            },
            "type": "scatterpolar"
           }
          ],
          "scatterpolargl": [
           {
            "marker": {
             "colorbar": {
              "outlinewidth": 0,
              "ticks": ""
             }
            },
            "type": "scatterpolargl"
           }
          ],
          "scatterternary": [
           {
            "marker": {
             "colorbar": {
              "outlinewidth": 0,
              "ticks": ""
             }
            },
            "type": "scatterternary"
           }
          ],
          "surface": [
           {
            "colorbar": {
             "outlinewidth": 0,
             "ticks": ""
            },
            "colorscale": [
             [
              0,
              "#0d0887"
             ],
             [
              0.1111111111111111,
              "#46039f"
             ],
             [
              0.2222222222222222,
              "#7201a8"
             ],
             [
              0.3333333333333333,
              "#9c179e"
             ],
             [
              0.4444444444444444,
              "#bd3786"
             ],
             [
              0.5555555555555556,
              "#d8576b"
             ],
             [
              0.6666666666666666,
              "#ed7953"
             ],
             [
              0.7777777777777778,
              "#fb9f3a"
             ],
             [
              0.8888888888888888,
              "#fdca26"
             ],
             [
              1,
              "#f0f921"
             ]
            ],
            "type": "surface"
           }
          ],
          "table": [
           {
            "cells": {
             "fill": {
              "color": "#EBF0F8"
             },
             "line": {
              "color": "white"
             }
            },
            "header": {
             "fill": {
              "color": "#C8D4E3"
             },
             "line": {
              "color": "white"
             }
            },
            "type": "table"
           }
          ]
         },
         "layout": {
          "annotationdefaults": {
           "arrowcolor": "#2a3f5f",
           "arrowhead": 0,
           "arrowwidth": 1
          },
          "autotypenumbers": "strict",
          "coloraxis": {
           "colorbar": {
            "outlinewidth": 0,
            "ticks": ""
           }
          },
          "colorscale": {
           "diverging": [
            [
             0,
             "#8e0152"
            ],
            [
             0.1,
             "#c51b7d"
            ],
            [
             0.2,
             "#de77ae"
            ],
            [
             0.3,
             "#f1b6da"
            ],
            [
             0.4,
             "#fde0ef"
            ],
            [
             0.5,
             "#f7f7f7"
            ],
            [
             0.6,
             "#e6f5d0"
            ],
            [
             0.7,
             "#b8e186"
            ],
            [
             0.8,
             "#7fbc41"
            ],
            [
             0.9,
             "#4d9221"
            ],
            [
             1,
             "#276419"
            ]
           ],
           "sequential": [
            [
             0,
             "#0d0887"
            ],
            [
             0.1111111111111111,
             "#46039f"
            ],
            [
             0.2222222222222222,
             "#7201a8"
            ],
            [
             0.3333333333333333,
             "#9c179e"
            ],
            [
             0.4444444444444444,
             "#bd3786"
            ],
            [
             0.5555555555555556,
             "#d8576b"
            ],
            [
             0.6666666666666666,
             "#ed7953"
            ],
            [
             0.7777777777777778,
             "#fb9f3a"
            ],
            [
             0.8888888888888888,
             "#fdca26"
            ],
            [
             1,
             "#f0f921"
            ]
           ],
           "sequentialminus": [
            [
             0,
             "#0d0887"
            ],
            [
             0.1111111111111111,
             "#46039f"
            ],
            [
             0.2222222222222222,
             "#7201a8"
            ],
            [
             0.3333333333333333,
             "#9c179e"
            ],
            [
             0.4444444444444444,
             "#bd3786"
            ],
            [
             0.5555555555555556,
             "#d8576b"
            ],
            [
             0.6666666666666666,
             "#ed7953"
            ],
            [
             0.7777777777777778,
             "#fb9f3a"
            ],
            [
             0.8888888888888888,
             "#fdca26"
            ],
            [
             1,
             "#f0f921"
            ]
           ]
          },
          "colorway": [
           "#636efa",
           "#EF553B",
           "#00cc96",
           "#ab63fa",
           "#FFA15A",
           "#19d3f3",
           "#FF6692",
           "#B6E880",
           "#FF97FF",
           "#FECB52"
          ],
          "font": {
           "color": "#2a3f5f"
          },
          "geo": {
           "bgcolor": "white",
           "lakecolor": "white",
           "landcolor": "white",
           "showlakes": true,
           "showland": true,
           "subunitcolor": "#C8D4E3"
          },
          "hoverlabel": {
           "align": "left"
          },
          "hovermode": "closest",
          "mapbox": {
           "style": "light"
          },
          "paper_bgcolor": "white",
          "plot_bgcolor": "white",
          "polar": {
           "angularaxis": {
            "gridcolor": "#EBF0F8",
            "linecolor": "#EBF0F8",
            "ticks": ""
           },
           "bgcolor": "white",
           "radialaxis": {
            "gridcolor": "#EBF0F8",
            "linecolor": "#EBF0F8",
            "ticks": ""
           }
          },
          "scene": {
           "xaxis": {
            "backgroundcolor": "white",
            "gridcolor": "#DFE8F3",
            "gridwidth": 2,
            "linecolor": "#EBF0F8",
            "showbackground": true,
            "ticks": "",
            "zerolinecolor": "#EBF0F8"
           },
           "yaxis": {
            "backgroundcolor": "white",
            "gridcolor": "#DFE8F3",
            "gridwidth": 2,
            "linecolor": "#EBF0F8",
            "showbackground": true,
            "ticks": "",
            "zerolinecolor": "#EBF0F8"
           },
           "zaxis": {
            "backgroundcolor": "white",
            "gridcolor": "#DFE8F3",
            "gridwidth": 2,
            "linecolor": "#EBF0F8",
            "showbackground": true,
            "ticks": "",
            "zerolinecolor": "#EBF0F8"
           }
          },
          "shapedefaults": {
           "line": {
            "color": "#2a3f5f"
           }
          },
          "ternary": {
           "aaxis": {
            "gridcolor": "#DFE8F3",
            "linecolor": "#A2B1C6",
            "ticks": ""
           },
           "baxis": {
            "gridcolor": "#DFE8F3",
            "linecolor": "#A2B1C6",
            "ticks": ""
           },
           "bgcolor": "white",
           "caxis": {
            "gridcolor": "#DFE8F3",
            "linecolor": "#A2B1C6",
            "ticks": ""
           }
          },
          "title": {
           "x": 0.05
          },
          "xaxis": {
           "automargin": true,
           "gridcolor": "#EBF0F8",
           "linecolor": "#EBF0F8",
           "ticks": "",
           "title": {
            "standoff": 15
           },
           "zerolinecolor": "#EBF0F8",
           "zerolinewidth": 2
          },
          "yaxis": {
           "automargin": true,
           "gridcolor": "#EBF0F8",
           "linecolor": "#EBF0F8",
           "ticks": "",
           "title": {
            "standoff": 15
           },
           "zerolinecolor": "#EBF0F8",
           "zerolinewidth": 2
          }
         }
        },
        "title": {
         "text": "sentiment",
         "x": 0.5,
         "xanchor": "center",
         "y": 0.6,
         "yanchor": "top"
        },
        "xaxis": {
         "anchor": "y",
         "domain": [
          0,
          0.45
         ]
        },
        "yaxis": {
         "anchor": "x",
         "domain": [
          0,
          1
         ]
        }
       }
      },
      "text/html": [
       "<div>                            <div id=\"4742f6b9-187e-4bb8-ad98-03e7b38e20a1\" class=\"plotly-graph-div\" style=\"height:525px; width:100%;\"></div>            <script type=\"text/javascript\">                require([\"plotly\"], function(Plotly) {                    window.PLOTLYENV=window.PLOTLYENV || {};                                    if (document.getElementById(\"4742f6b9-187e-4bb8-ad98-03e7b38e20a1\")) {                    Plotly.newPlot(                        \"4742f6b9-187e-4bb8-ad98-03e7b38e20a1\",                        [{\"marker\":{\"color\":[\"#00b500\",\"#8b4219\",\"#EBE00C\"],\"line\":{\"color\":\"#DBE6EC\",\"width\":1}},\"name\":\"sentiment\",\"showlegend\":false,\"text\":[\"2109\",\"1492\",\"23\"],\"textposition\":\"auto\",\"x\":[\"Positive\",\"Negative\",\"Neutral\"],\"xaxis\":\"x\",\"y\":[2109,1492,23],\"yaxis\":\"y\",\"type\":\"bar\"},{\"domain\":{\"x\":[0.55,1.0],\"y\":[0.0,1.0]},\"labels\":[\"Positive\",\"Negative\",\"Neutral\"],\"marker\":{\"colors\":[\"#00b500\",\"#8b4219\",\"#EBE00C\"]},\"showlegend\":false,\"textfont\":{\"size\":18},\"textposition\":\"auto\",\"values\":[2109,1492,23],\"type\":\"pie\"}],                        {\"annotations\":[{\"font\":{\"size\":16},\"showarrow\":false,\"text\":\"Countplot\",\"x\":0.225,\"xanchor\":\"center\",\"xref\":\"paper\",\"y\":1.0,\"yanchor\":\"bottom\",\"yref\":\"paper\"},{\"font\":{\"size\":16},\"showarrow\":false,\"text\":\"Percentage\",\"x\":0.775,\"xanchor\":\"center\",\"xref\":\"paper\",\"y\":1.0,\"yanchor\":\"bottom\",\"yref\":\"paper\"}],\"template\":{\"data\":{\"barpolar\":[{\"marker\":{\"line\":{\"color\":\"white\",\"width\":0.5},\"pattern\":{\"fillmode\":\"overlay\",\"size\":10,\"solidity\":0.2}},\"type\":\"barpolar\"}],\"bar\":[{\"error_x\":{\"color\":\"#2a3f5f\"},\"error_y\":{\"color\":\"#2a3f5f\"},\"marker\":{\"line\":{\"color\":\"white\",\"width\":0.5},\"pattern\":{\"fillmode\":\"overlay\",\"size\":10,\"solidity\":0.2}},\"type\":\"bar\"}],\"carpet\":[{\"aaxis\":{\"endlinecolor\":\"#2a3f5f\",\"gridcolor\":\"#C8D4E3\",\"linecolor\":\"#C8D4E3\",\"minorgridcolor\":\"#C8D4E3\",\"startlinecolor\":\"#2a3f5f\"},\"baxis\":{\"endlinecolor\":\"#2a3f5f\",\"gridcolor\":\"#C8D4E3\",\"linecolor\":\"#C8D4E3\",\"minorgridcolor\":\"#C8D4E3\",\"startlinecolor\":\"#2a3f5f\"},\"type\":\"carpet\"}],\"choropleth\":[{\"colorbar\":{\"outlinewidth\":0,\"ticks\":\"\"},\"type\":\"choropleth\"}],\"contourcarpet\":[{\"colorbar\":{\"outlinewidth\":0,\"ticks\":\"\"},\"type\":\"contourcarpet\"}],\"contour\":[{\"colorbar\":{\"outlinewidth\":0,\"ticks\":\"\"},\"colorscale\":[[0.0,\"#0d0887\"],[0.1111111111111111,\"#46039f\"],[0.2222222222222222,\"#7201a8\"],[0.3333333333333333,\"#9c179e\"],[0.4444444444444444,\"#bd3786\"],[0.5555555555555556,\"#d8576b\"],[0.6666666666666666,\"#ed7953\"],[0.7777777777777778,\"#fb9f3a\"],[0.8888888888888888,\"#fdca26\"],[1.0,\"#f0f921\"]],\"type\":\"contour\"}],\"heatmapgl\":[{\"colorbar\":{\"outlinewidth\":0,\"ticks\":\"\"},\"colorscale\":[[0.0,\"#0d0887\"],[0.1111111111111111,\"#46039f\"],[0.2222222222222222,\"#7201a8\"],[0.3333333333333333,\"#9c179e\"],[0.4444444444444444,\"#bd3786\"],[0.5555555555555556,\"#d8576b\"],[0.6666666666666666,\"#ed7953\"],[0.7777777777777778,\"#fb9f3a\"],[0.8888888888888888,\"#fdca26\"],[1.0,\"#f0f921\"]],\"type\":\"heatmapgl\"}],\"heatmap\":[{\"colorbar\":{\"outlinewidth\":0,\"ticks\":\"\"},\"colorscale\":[[0.0,\"#0d0887\"],[0.1111111111111111,\"#46039f\"],[0.2222222222222222,\"#7201a8\"],[0.3333333333333333,\"#9c179e\"],[0.4444444444444444,\"#bd3786\"],[0.5555555555555556,\"#d8576b\"],[0.6666666666666666,\"#ed7953\"],[0.7777777777777778,\"#fb9f3a\"],[0.8888888888888888,\"#fdca26\"],[1.0,\"#f0f921\"]],\"type\":\"heatmap\"}],\"histogram2dcontour\":[{\"colorbar\":{\"outlinewidth\":0,\"ticks\":\"\"},\"colorscale\":[[0.0,\"#0d0887\"],[0.1111111111111111,\"#46039f\"],[0.2222222222222222,\"#7201a8\"],[0.3333333333333333,\"#9c179e\"],[0.4444444444444444,\"#bd3786\"],[0.5555555555555556,\"#d8576b\"],[0.6666666666666666,\"#ed7953\"],[0.7777777777777778,\"#fb9f3a\"],[0.8888888888888888,\"#fdca26\"],[1.0,\"#f0f921\"]],\"type\":\"histogram2dcontour\"}],\"histogram2d\":[{\"colorbar\":{\"outlinewidth\":0,\"ticks\":\"\"},\"colorscale\":[[0.0,\"#0d0887\"],[0.1111111111111111,\"#46039f\"],[0.2222222222222222,\"#7201a8\"],[0.3333333333333333,\"#9c179e\"],[0.4444444444444444,\"#bd3786\"],[0.5555555555555556,\"#d8576b\"],[0.6666666666666666,\"#ed7953\"],[0.7777777777777778,\"#fb9f3a\"],[0.8888888888888888,\"#fdca26\"],[1.0,\"#f0f921\"]],\"type\":\"histogram2d\"}],\"histogram\":[{\"marker\":{\"pattern\":{\"fillmode\":\"overlay\",\"size\":10,\"solidity\":0.2}},\"type\":\"histogram\"}],\"mesh3d\":[{\"colorbar\":{\"outlinewidth\":0,\"ticks\":\"\"},\"type\":\"mesh3d\"}],\"parcoords\":[{\"line\":{\"colorbar\":{\"outlinewidth\":0,\"ticks\":\"\"}},\"type\":\"parcoords\"}],\"pie\":[{\"automargin\":true,\"type\":\"pie\"}],\"scatter3d\":[{\"line\":{\"colorbar\":{\"outlinewidth\":0,\"ticks\":\"\"}},\"marker\":{\"colorbar\":{\"outlinewidth\":0,\"ticks\":\"\"}},\"type\":\"scatter3d\"}],\"scattercarpet\":[{\"marker\":{\"colorbar\":{\"outlinewidth\":0,\"ticks\":\"\"}},\"type\":\"scattercarpet\"}],\"scattergeo\":[{\"marker\":{\"colorbar\":{\"outlinewidth\":0,\"ticks\":\"\"}},\"type\":\"scattergeo\"}],\"scattergl\":[{\"marker\":{\"colorbar\":{\"outlinewidth\":0,\"ticks\":\"\"}},\"type\":\"scattergl\"}],\"scattermapbox\":[{\"marker\":{\"colorbar\":{\"outlinewidth\":0,\"ticks\":\"\"}},\"type\":\"scattermapbox\"}],\"scatterpolargl\":[{\"marker\":{\"colorbar\":{\"outlinewidth\":0,\"ticks\":\"\"}},\"type\":\"scatterpolargl\"}],\"scatterpolar\":[{\"marker\":{\"colorbar\":{\"outlinewidth\":0,\"ticks\":\"\"}},\"type\":\"scatterpolar\"}],\"scatter\":[{\"fillpattern\":{\"fillmode\":\"overlay\",\"size\":10,\"solidity\":0.2},\"type\":\"scatter\"}],\"scatterternary\":[{\"marker\":{\"colorbar\":{\"outlinewidth\":0,\"ticks\":\"\"}},\"type\":\"scatterternary\"}],\"surface\":[{\"colorbar\":{\"outlinewidth\":0,\"ticks\":\"\"},\"colorscale\":[[0.0,\"#0d0887\"],[0.1111111111111111,\"#46039f\"],[0.2222222222222222,\"#7201a8\"],[0.3333333333333333,\"#9c179e\"],[0.4444444444444444,\"#bd3786\"],[0.5555555555555556,\"#d8576b\"],[0.6666666666666666,\"#ed7953\"],[0.7777777777777778,\"#fb9f3a\"],[0.8888888888888888,\"#fdca26\"],[1.0,\"#f0f921\"]],\"type\":\"surface\"}],\"table\":[{\"cells\":{\"fill\":{\"color\":\"#EBF0F8\"},\"line\":{\"color\":\"white\"}},\"header\":{\"fill\":{\"color\":\"#C8D4E3\"},\"line\":{\"color\":\"white\"}},\"type\":\"table\"}]},\"layout\":{\"annotationdefaults\":{\"arrowcolor\":\"#2a3f5f\",\"arrowhead\":0,\"arrowwidth\":1},\"autotypenumbers\":\"strict\",\"coloraxis\":{\"colorbar\":{\"outlinewidth\":0,\"ticks\":\"\"}},\"colorscale\":{\"diverging\":[[0,\"#8e0152\"],[0.1,\"#c51b7d\"],[0.2,\"#de77ae\"],[0.3,\"#f1b6da\"],[0.4,\"#fde0ef\"],[0.5,\"#f7f7f7\"],[0.6,\"#e6f5d0\"],[0.7,\"#b8e186\"],[0.8,\"#7fbc41\"],[0.9,\"#4d9221\"],[1,\"#276419\"]],\"sequential\":[[0.0,\"#0d0887\"],[0.1111111111111111,\"#46039f\"],[0.2222222222222222,\"#7201a8\"],[0.3333333333333333,\"#9c179e\"],[0.4444444444444444,\"#bd3786\"],[0.5555555555555556,\"#d8576b\"],[0.6666666666666666,\"#ed7953\"],[0.7777777777777778,\"#fb9f3a\"],[0.8888888888888888,\"#fdca26\"],[1.0,\"#f0f921\"]],\"sequentialminus\":[[0.0,\"#0d0887\"],[0.1111111111111111,\"#46039f\"],[0.2222222222222222,\"#7201a8\"],[0.3333333333333333,\"#9c179e\"],[0.4444444444444444,\"#bd3786\"],[0.5555555555555556,\"#d8576b\"],[0.6666666666666666,\"#ed7953\"],[0.7777777777777778,\"#fb9f3a\"],[0.8888888888888888,\"#fdca26\"],[1.0,\"#f0f921\"]]},\"colorway\":[\"#636efa\",\"#EF553B\",\"#00cc96\",\"#ab63fa\",\"#FFA15A\",\"#19d3f3\",\"#FF6692\",\"#B6E880\",\"#FF97FF\",\"#FECB52\"],\"font\":{\"color\":\"#2a3f5f\"},\"geo\":{\"bgcolor\":\"white\",\"lakecolor\":\"white\",\"landcolor\":\"white\",\"showlakes\":true,\"showland\":true,\"subunitcolor\":\"#C8D4E3\"},\"hoverlabel\":{\"align\":\"left\"},\"hovermode\":\"closest\",\"mapbox\":{\"style\":\"light\"},\"paper_bgcolor\":\"white\",\"plot_bgcolor\":\"white\",\"polar\":{\"angularaxis\":{\"gridcolor\":\"#EBF0F8\",\"linecolor\":\"#EBF0F8\",\"ticks\":\"\"},\"bgcolor\":\"white\",\"radialaxis\":{\"gridcolor\":\"#EBF0F8\",\"linecolor\":\"#EBF0F8\",\"ticks\":\"\"}},\"scene\":{\"xaxis\":{\"backgroundcolor\":\"white\",\"gridcolor\":\"#DFE8F3\",\"gridwidth\":2,\"linecolor\":\"#EBF0F8\",\"showbackground\":true,\"ticks\":\"\",\"zerolinecolor\":\"#EBF0F8\"},\"yaxis\":{\"backgroundcolor\":\"white\",\"gridcolor\":\"#DFE8F3\",\"gridwidth\":2,\"linecolor\":\"#EBF0F8\",\"showbackground\":true,\"ticks\":\"\",\"zerolinecolor\":\"#EBF0F8\"},\"zaxis\":{\"backgroundcolor\":\"white\",\"gridcolor\":\"#DFE8F3\",\"gridwidth\":2,\"linecolor\":\"#EBF0F8\",\"showbackground\":true,\"ticks\":\"\",\"zerolinecolor\":\"#EBF0F8\"}},\"shapedefaults\":{\"line\":{\"color\":\"#2a3f5f\"}},\"ternary\":{\"aaxis\":{\"gridcolor\":\"#DFE8F3\",\"linecolor\":\"#A2B1C6\",\"ticks\":\"\"},\"baxis\":{\"gridcolor\":\"#DFE8F3\",\"linecolor\":\"#A2B1C6\",\"ticks\":\"\"},\"bgcolor\":\"white\",\"caxis\":{\"gridcolor\":\"#DFE8F3\",\"linecolor\":\"#A2B1C6\",\"ticks\":\"\"}},\"title\":{\"x\":0.05},\"xaxis\":{\"automargin\":true,\"gridcolor\":\"#EBF0F8\",\"linecolor\":\"#EBF0F8\",\"ticks\":\"\",\"title\":{\"standoff\":15},\"zerolinecolor\":\"#EBF0F8\",\"zerolinewidth\":2},\"yaxis\":{\"automargin\":true,\"gridcolor\":\"#EBF0F8\",\"linecolor\":\"#EBF0F8\",\"ticks\":\"\",\"title\":{\"standoff\":15},\"zerolinecolor\":\"#EBF0F8\",\"zerolinewidth\":2}}},\"title\":{\"text\":\"sentiment\",\"x\":0.5,\"xanchor\":\"center\",\"y\":0.6,\"yanchor\":\"top\"},\"xaxis\":{\"anchor\":\"y\",\"domain\":[0.0,0.45]},\"yaxis\":{\"anchor\":\"x\",\"domain\":[0.0,1.0]}},                        {\"responsive\": true}                    ).then(function(){\n",
       "                            \n",
       "var gd = document.getElementById('4742f6b9-187e-4bb8-ad98-03e7b38e20a1');\n",
       "var x = new MutationObserver(function (mutations, observer) {{\n",
       "        var display = window.getComputedStyle(gd).display;\n",
       "        if (!display || display === 'none') {{\n",
       "            console.log([gd, 'removed!']);\n",
       "            Plotly.purge(gd);\n",
       "            observer.disconnect();\n",
       "        }}\n",
       "}});\n",
       "\n",
       "// Listen for the removal of the full notebook cells\n",
       "var notebookContainer = gd.closest('#notebook-container');\n",
       "if (notebookContainer) {{\n",
       "    x.observe(notebookContainer, {childList: true});\n",
       "}}\n",
       "\n",
       "// Listen for the clearing of the current output cell\n",
       "var outputEl = gd.closest('.output');\n",
       "if (outputEl) {{\n",
       "    x.observe(outputEl, {childList: true});\n",
       "}}\n",
       "\n",
       "                        })                };                });            </script>        </div>"
      ]
     },
     "metadata": {},
     "output_type": "display_data"
    }
   ],
   "source": [
    "#Result visualisation\n",
    "df.head()\n",
    "sentiment_plot = Eda\n",
    "constraints = ['#00b500', '#8b4219', '#EBE00C']\n",
    "sentiment_plot.categorical_variable_summary(df, 'sentiment', constraints)"
   ]
  },
  {
   "cell_type": "code",
   "execution_count": 7,
   "id": "af2f64b5",
   "metadata": {},
   "outputs": [
    {
     "data": {
      "application/vnd.plotly.v1+json": {
       "config": {
        "linkText": "Export to plot.ly",
        "plotlyServerURL": "https://plot.ly",
        "showLink": false
       },
       "data": [
        {
         "marker": {
          "color": [
           "#B34D22",
           "#EBE00C",
           "#1FEB0C",
           "#0C92EB",
           "#EB0CD5"
          ],
          "line": {
           "color": "#DBE6EC",
           "width": 1
          }
         },
         "name": "sentiment",
         "showlegend": false,
         "text": [
          "509",
          "483",
          "8"
         ],
         "textposition": "auto",
         "type": "bar",
         "x": [
          "Positive",
          "Negative",
          "Neutral"
         ],
         "xaxis": "x",
         "y": [
          509,
          483,
          8
         ],
         "yaxis": "y"
        },
        {
         "domain": {
          "x": [
           0.55,
           1
          ],
          "y": [
           0,
           1
          ]
         },
         "labels": [
          "Positive",
          "Negative",
          "Neutral"
         ],
         "marker": {
          "colors": [
           "#B34D22",
           "#EBE00C",
           "#1FEB0C",
           "#0C92EB",
           "#EB0CD5"
          ]
         },
         "showlegend": false,
         "textfont": {
          "size": 18
         },
         "textposition": "auto",
         "type": "pie",
         "values": [
          509,
          483,
          8
         ]
        }
       ],
       "layout": {
        "annotations": [
         {
          "font": {
           "size": 16
          },
          "showarrow": false,
          "text": "Countplot",
          "x": 0.225,
          "xanchor": "center",
          "xref": "paper",
          "y": 1,
          "yanchor": "bottom",
          "yref": "paper"
         },
         {
          "font": {
           "size": 16
          },
          "showarrow": false,
          "text": "Percentage",
          "x": 0.775,
          "xanchor": "center",
          "xref": "paper",
          "y": 1,
          "yanchor": "bottom",
          "yref": "paper"
         }
        ],
        "template": {
         "data": {
          "bar": [
           {
            "error_x": {
             "color": "#2a3f5f"
            },
            "error_y": {
             "color": "#2a3f5f"
            },
            "marker": {
             "line": {
              "color": "white",
              "width": 0.5
             },
             "pattern": {
              "fillmode": "overlay",
              "size": 10,
              "solidity": 0.2
             }
            },
            "type": "bar"
           }
          ],
          "barpolar": [
           {
            "marker": {
             "line": {
              "color": "white",
              "width": 0.5
             },
             "pattern": {
              "fillmode": "overlay",
              "size": 10,
              "solidity": 0.2
             }
            },
            "type": "barpolar"
           }
          ],
          "carpet": [
           {
            "aaxis": {
             "endlinecolor": "#2a3f5f",
             "gridcolor": "#C8D4E3",
             "linecolor": "#C8D4E3",
             "minorgridcolor": "#C8D4E3",
             "startlinecolor": "#2a3f5f"
            },
            "baxis": {
             "endlinecolor": "#2a3f5f",
             "gridcolor": "#C8D4E3",
             "linecolor": "#C8D4E3",
             "minorgridcolor": "#C8D4E3",
             "startlinecolor": "#2a3f5f"
            },
            "type": "carpet"
           }
          ],
          "choropleth": [
           {
            "colorbar": {
             "outlinewidth": 0,
             "ticks": ""
            },
            "type": "choropleth"
           }
          ],
          "contour": [
           {
            "colorbar": {
             "outlinewidth": 0,
             "ticks": ""
            },
            "colorscale": [
             [
              0,
              "#0d0887"
             ],
             [
              0.1111111111111111,
              "#46039f"
             ],
             [
              0.2222222222222222,
              "#7201a8"
             ],
             [
              0.3333333333333333,
              "#9c179e"
             ],
             [
              0.4444444444444444,
              "#bd3786"
             ],
             [
              0.5555555555555556,
              "#d8576b"
             ],
             [
              0.6666666666666666,
              "#ed7953"
             ],
             [
              0.7777777777777778,
              "#fb9f3a"
             ],
             [
              0.8888888888888888,
              "#fdca26"
             ],
             [
              1,
              "#f0f921"
             ]
            ],
            "type": "contour"
           }
          ],
          "contourcarpet": [
           {
            "colorbar": {
             "outlinewidth": 0,
             "ticks": ""
            },
            "type": "contourcarpet"
           }
          ],
          "heatmap": [
           {
            "colorbar": {
             "outlinewidth": 0,
             "ticks": ""
            },
            "colorscale": [
             [
              0,
              "#0d0887"
             ],
             [
              0.1111111111111111,
              "#46039f"
             ],
             [
              0.2222222222222222,
              "#7201a8"
             ],
             [
              0.3333333333333333,
              "#9c179e"
             ],
             [
              0.4444444444444444,
              "#bd3786"
             ],
             [
              0.5555555555555556,
              "#d8576b"
             ],
             [
              0.6666666666666666,
              "#ed7953"
             ],
             [
              0.7777777777777778,
              "#fb9f3a"
             ],
             [
              0.8888888888888888,
              "#fdca26"
             ],
             [
              1,
              "#f0f921"
             ]
            ],
            "type": "heatmap"
           }
          ],
          "heatmapgl": [
           {
            "colorbar": {
             "outlinewidth": 0,
             "ticks": ""
            },
            "colorscale": [
             [
              0,
              "#0d0887"
             ],
             [
              0.1111111111111111,
              "#46039f"
             ],
             [
              0.2222222222222222,
              "#7201a8"
             ],
             [
              0.3333333333333333,
              "#9c179e"
             ],
             [
              0.4444444444444444,
              "#bd3786"
             ],
             [
              0.5555555555555556,
              "#d8576b"
             ],
             [
              0.6666666666666666,
              "#ed7953"
             ],
             [
              0.7777777777777778,
              "#fb9f3a"
             ],
             [
              0.8888888888888888,
              "#fdca26"
             ],
             [
              1,
              "#f0f921"
             ]
            ],
            "type": "heatmapgl"
           }
          ],
          "histogram": [
           {
            "marker": {
             "pattern": {
              "fillmode": "overlay",
              "size": 10,
              "solidity": 0.2
             }
            },
            "type": "histogram"
           }
          ],
          "histogram2d": [
           {
            "colorbar": {
             "outlinewidth": 0,
             "ticks": ""
            },
            "colorscale": [
             [
              0,
              "#0d0887"
             ],
             [
              0.1111111111111111,
              "#46039f"
             ],
             [
              0.2222222222222222,
              "#7201a8"
             ],
             [
              0.3333333333333333,
              "#9c179e"
             ],
             [
              0.4444444444444444,
              "#bd3786"
             ],
             [
              0.5555555555555556,
              "#d8576b"
             ],
             [
              0.6666666666666666,
              "#ed7953"
             ],
             [
              0.7777777777777778,
              "#fb9f3a"
             ],
             [
              0.8888888888888888,
              "#fdca26"
             ],
             [
              1,
              "#f0f921"
             ]
            ],
            "type": "histogram2d"
           }
          ],
          "histogram2dcontour": [
           {
            "colorbar": {
             "outlinewidth": 0,
             "ticks": ""
            },
            "colorscale": [
             [
              0,
              "#0d0887"
             ],
             [
              0.1111111111111111,
              "#46039f"
             ],
             [
              0.2222222222222222,
              "#7201a8"
             ],
             [
              0.3333333333333333,
              "#9c179e"
             ],
             [
              0.4444444444444444,
              "#bd3786"
             ],
             [
              0.5555555555555556,
              "#d8576b"
             ],
             [
              0.6666666666666666,
              "#ed7953"
             ],
             [
              0.7777777777777778,
              "#fb9f3a"
             ],
             [
              0.8888888888888888,
              "#fdca26"
             ],
             [
              1,
              "#f0f921"
             ]
            ],
            "type": "histogram2dcontour"
           }
          ],
          "mesh3d": [
           {
            "colorbar": {
             "outlinewidth": 0,
             "ticks": ""
            },
            "type": "mesh3d"
           }
          ],
          "parcoords": [
           {
            "line": {
             "colorbar": {
              "outlinewidth": 0,
              "ticks": ""
             }
            },
            "type": "parcoords"
           }
          ],
          "pie": [
           {
            "automargin": true,
            "type": "pie"
           }
          ],
          "scatter": [
           {
            "fillpattern": {
             "fillmode": "overlay",
             "size": 10,
             "solidity": 0.2
            },
            "type": "scatter"
           }
          ],
          "scatter3d": [
           {
            "line": {
             "colorbar": {
              "outlinewidth": 0,
              "ticks": ""
             }
            },
            "marker": {
             "colorbar": {
              "outlinewidth": 0,
              "ticks": ""
             }
            },
            "type": "scatter3d"
           }
          ],
          "scattercarpet": [
           {
            "marker": {
             "colorbar": {
              "outlinewidth": 0,
              "ticks": ""
             }
            },
            "type": "scattercarpet"
           }
          ],
          "scattergeo": [
           {
            "marker": {
             "colorbar": {
              "outlinewidth": 0,
              "ticks": ""
             }
            },
            "type": "scattergeo"
           }
          ],
          "scattergl": [
           {
            "marker": {
             "colorbar": {
              "outlinewidth": 0,
              "ticks": ""
             }
            },
            "type": "scattergl"
           }
          ],
          "scattermapbox": [
           {
            "marker": {
             "colorbar": {
              "outlinewidth": 0,
              "ticks": ""
             }
            },
            "type": "scattermapbox"
           }
          ],
          "scatterpolar": [
           {
            "marker": {
             "colorbar": {
              "outlinewidth": 0,
              "ticks": ""
             }
            },
            "type": "scatterpolar"
           }
          ],
          "scatterpolargl": [
           {
            "marker": {
             "colorbar": {
              "outlinewidth": 0,
              "ticks": ""
             }
            },
            "type": "scatterpolargl"
           }
          ],
          "scatterternary": [
           {
            "marker": {
             "colorbar": {
              "outlinewidth": 0,
              "ticks": ""
             }
            },
            "type": "scatterternary"
           }
          ],
          "surface": [
           {
            "colorbar": {
             "outlinewidth": 0,
             "ticks": ""
            },
            "colorscale": [
             [
              0,
              "#0d0887"
             ],
             [
              0.1111111111111111,
              "#46039f"
             ],
             [
              0.2222222222222222,
              "#7201a8"
             ],
             [
              0.3333333333333333,
              "#9c179e"
             ],
             [
              0.4444444444444444,
              "#bd3786"
             ],
             [
              0.5555555555555556,
              "#d8576b"
             ],
             [
              0.6666666666666666,
              "#ed7953"
             ],
             [
              0.7777777777777778,
              "#fb9f3a"
             ],
             [
              0.8888888888888888,
              "#fdca26"
             ],
             [
              1,
              "#f0f921"
             ]
            ],
            "type": "surface"
           }
          ],
          "table": [
           {
            "cells": {
             "fill": {
              "color": "#EBF0F8"
             },
             "line": {
              "color": "white"
             }
            },
            "header": {
             "fill": {
              "color": "#C8D4E3"
             },
             "line": {
              "color": "white"
             }
            },
            "type": "table"
           }
          ]
         },
         "layout": {
          "annotationdefaults": {
           "arrowcolor": "#2a3f5f",
           "arrowhead": 0,
           "arrowwidth": 1
          },
          "autotypenumbers": "strict",
          "coloraxis": {
           "colorbar": {
            "outlinewidth": 0,
            "ticks": ""
           }
          },
          "colorscale": {
           "diverging": [
            [
             0,
             "#8e0152"
            ],
            [
             0.1,
             "#c51b7d"
            ],
            [
             0.2,
             "#de77ae"
            ],
            [
             0.3,
             "#f1b6da"
            ],
            [
             0.4,
             "#fde0ef"
            ],
            [
             0.5,
             "#f7f7f7"
            ],
            [
             0.6,
             "#e6f5d0"
            ],
            [
             0.7,
             "#b8e186"
            ],
            [
             0.8,
             "#7fbc41"
            ],
            [
             0.9,
             "#4d9221"
            ],
            [
             1,
             "#276419"
            ]
           ],
           "sequential": [
            [
             0,
             "#0d0887"
            ],
            [
             0.1111111111111111,
             "#46039f"
            ],
            [
             0.2222222222222222,
             "#7201a8"
            ],
            [
             0.3333333333333333,
             "#9c179e"
            ],
            [
             0.4444444444444444,
             "#bd3786"
            ],
            [
             0.5555555555555556,
             "#d8576b"
            ],
            [
             0.6666666666666666,
             "#ed7953"
            ],
            [
             0.7777777777777778,
             "#fb9f3a"
            ],
            [
             0.8888888888888888,
             "#fdca26"
            ],
            [
             1,
             "#f0f921"
            ]
           ],
           "sequentialminus": [
            [
             0,
             "#0d0887"
            ],
            [
             0.1111111111111111,
             "#46039f"
            ],
            [
             0.2222222222222222,
             "#7201a8"
            ],
            [
             0.3333333333333333,
             "#9c179e"
            ],
            [
             0.4444444444444444,
             "#bd3786"
            ],
            [
             0.5555555555555556,
             "#d8576b"
            ],
            [
             0.6666666666666666,
             "#ed7953"
            ],
            [
             0.7777777777777778,
             "#fb9f3a"
            ],
            [
             0.8888888888888888,
             "#fdca26"
            ],
            [
             1,
             "#f0f921"
            ]
           ]
          },
          "colorway": [
           "#636efa",
           "#EF553B",
           "#00cc96",
           "#ab63fa",
           "#FFA15A",
           "#19d3f3",
           "#FF6692",
           "#B6E880",
           "#FF97FF",
           "#FECB52"
          ],
          "font": {
           "color": "#2a3f5f"
          },
          "geo": {
           "bgcolor": "white",
           "lakecolor": "white",
           "landcolor": "white",
           "showlakes": true,
           "showland": true,
           "subunitcolor": "#C8D4E3"
          },
          "hoverlabel": {
           "align": "left"
          },
          "hovermode": "closest",
          "mapbox": {
           "style": "light"
          },
          "paper_bgcolor": "white",
          "plot_bgcolor": "white",
          "polar": {
           "angularaxis": {
            "gridcolor": "#EBF0F8",
            "linecolor": "#EBF0F8",
            "ticks": ""
           },
           "bgcolor": "white",
           "radialaxis": {
            "gridcolor": "#EBF0F8",
            "linecolor": "#EBF0F8",
            "ticks": ""
           }
          },
          "scene": {
           "xaxis": {
            "backgroundcolor": "white",
            "gridcolor": "#DFE8F3",
            "gridwidth": 2,
            "linecolor": "#EBF0F8",
            "showbackground": true,
            "ticks": "",
            "zerolinecolor": "#EBF0F8"
           },
           "yaxis": {
            "backgroundcolor": "white",
            "gridcolor": "#DFE8F3",
            "gridwidth": 2,
            "linecolor": "#EBF0F8",
            "showbackground": true,
            "ticks": "",
            "zerolinecolor": "#EBF0F8"
           },
           "zaxis": {
            "backgroundcolor": "white",
            "gridcolor": "#DFE8F3",
            "gridwidth": 2,
            "linecolor": "#EBF0F8",
            "showbackground": true,
            "ticks": "",
            "zerolinecolor": "#EBF0F8"
           }
          },
          "shapedefaults": {
           "line": {
            "color": "#2a3f5f"
           }
          },
          "ternary": {
           "aaxis": {
            "gridcolor": "#DFE8F3",
            "linecolor": "#A2B1C6",
            "ticks": ""
           },
           "baxis": {
            "gridcolor": "#DFE8F3",
            "linecolor": "#A2B1C6",
            "ticks": ""
           },
           "bgcolor": "white",
           "caxis": {
            "gridcolor": "#DFE8F3",
            "linecolor": "#A2B1C6",
            "ticks": ""
           }
          },
          "title": {
           "x": 0.05
          },
          "xaxis": {
           "automargin": true,
           "gridcolor": "#EBF0F8",
           "linecolor": "#EBF0F8",
           "ticks": "",
           "title": {
            "standoff": 15
           },
           "zerolinecolor": "#EBF0F8",
           "zerolinewidth": 2
          },
          "yaxis": {
           "automargin": true,
           "gridcolor": "#EBF0F8",
           "linecolor": "#EBF0F8",
           "ticks": "",
           "title": {
            "standoff": 15
           },
           "zerolinecolor": "#EBF0F8",
           "zerolinewidth": 2
          }
         }
        },
        "title": {
         "text": "sentiment",
         "x": 0.5,
         "xanchor": "center",
         "y": 0.6,
         "yanchor": "top"
        },
        "xaxis": {
         "anchor": "y",
         "domain": [
          0,
          0.45
         ]
        },
        "yaxis": {
         "anchor": "x",
         "domain": [
          0,
          1
         ]
        }
       }
      },
      "text/html": [
       "<div>                            <div id=\"ce5b4384-8d5a-4683-a28d-69083b3f7bcf\" class=\"plotly-graph-div\" style=\"height:525px; width:100%;\"></div>            <script type=\"text/javascript\">                require([\"plotly\"], function(Plotly) {                    window.PLOTLYENV=window.PLOTLYENV || {};                                    if (document.getElementById(\"ce5b4384-8d5a-4683-a28d-69083b3f7bcf\")) {                    Plotly.newPlot(                        \"ce5b4384-8d5a-4683-a28d-69083b3f7bcf\",                        [{\"marker\":{\"color\":[\"#B34D22\",\"#EBE00C\",\"#1FEB0C\",\"#0C92EB\",\"#EB0CD5\"],\"line\":{\"color\":\"#DBE6EC\",\"width\":1}},\"name\":\"sentiment\",\"showlegend\":false,\"text\":[\"509\",\"483\",\"8\"],\"textposition\":\"auto\",\"x\":[\"Positive\",\"Negative\",\"Neutral\"],\"xaxis\":\"x\",\"y\":[509,483,8],\"yaxis\":\"y\",\"type\":\"bar\"},{\"domain\":{\"x\":[0.55,1.0],\"y\":[0.0,1.0]},\"labels\":[\"Positive\",\"Negative\",\"Neutral\"],\"marker\":{\"colors\":[\"#B34D22\",\"#EBE00C\",\"#1FEB0C\",\"#0C92EB\",\"#EB0CD5\"]},\"showlegend\":false,\"textfont\":{\"size\":18},\"textposition\":\"auto\",\"values\":[509,483,8],\"type\":\"pie\"}],                        {\"annotations\":[{\"font\":{\"size\":16},\"showarrow\":false,\"text\":\"Countplot\",\"x\":0.225,\"xanchor\":\"center\",\"xref\":\"paper\",\"y\":1.0,\"yanchor\":\"bottom\",\"yref\":\"paper\"},{\"font\":{\"size\":16},\"showarrow\":false,\"text\":\"Percentage\",\"x\":0.775,\"xanchor\":\"center\",\"xref\":\"paper\",\"y\":1.0,\"yanchor\":\"bottom\",\"yref\":\"paper\"}],\"template\":{\"data\":{\"barpolar\":[{\"marker\":{\"line\":{\"color\":\"white\",\"width\":0.5},\"pattern\":{\"fillmode\":\"overlay\",\"size\":10,\"solidity\":0.2}},\"type\":\"barpolar\"}],\"bar\":[{\"error_x\":{\"color\":\"#2a3f5f\"},\"error_y\":{\"color\":\"#2a3f5f\"},\"marker\":{\"line\":{\"color\":\"white\",\"width\":0.5},\"pattern\":{\"fillmode\":\"overlay\",\"size\":10,\"solidity\":0.2}},\"type\":\"bar\"}],\"carpet\":[{\"aaxis\":{\"endlinecolor\":\"#2a3f5f\",\"gridcolor\":\"#C8D4E3\",\"linecolor\":\"#C8D4E3\",\"minorgridcolor\":\"#C8D4E3\",\"startlinecolor\":\"#2a3f5f\"},\"baxis\":{\"endlinecolor\":\"#2a3f5f\",\"gridcolor\":\"#C8D4E3\",\"linecolor\":\"#C8D4E3\",\"minorgridcolor\":\"#C8D4E3\",\"startlinecolor\":\"#2a3f5f\"},\"type\":\"carpet\"}],\"choropleth\":[{\"colorbar\":{\"outlinewidth\":0,\"ticks\":\"\"},\"type\":\"choropleth\"}],\"contourcarpet\":[{\"colorbar\":{\"outlinewidth\":0,\"ticks\":\"\"},\"type\":\"contourcarpet\"}],\"contour\":[{\"colorbar\":{\"outlinewidth\":0,\"ticks\":\"\"},\"colorscale\":[[0.0,\"#0d0887\"],[0.1111111111111111,\"#46039f\"],[0.2222222222222222,\"#7201a8\"],[0.3333333333333333,\"#9c179e\"],[0.4444444444444444,\"#bd3786\"],[0.5555555555555556,\"#d8576b\"],[0.6666666666666666,\"#ed7953\"],[0.7777777777777778,\"#fb9f3a\"],[0.8888888888888888,\"#fdca26\"],[1.0,\"#f0f921\"]],\"type\":\"contour\"}],\"heatmapgl\":[{\"colorbar\":{\"outlinewidth\":0,\"ticks\":\"\"},\"colorscale\":[[0.0,\"#0d0887\"],[0.1111111111111111,\"#46039f\"],[0.2222222222222222,\"#7201a8\"],[0.3333333333333333,\"#9c179e\"],[0.4444444444444444,\"#bd3786\"],[0.5555555555555556,\"#d8576b\"],[0.6666666666666666,\"#ed7953\"],[0.7777777777777778,\"#fb9f3a\"],[0.8888888888888888,\"#fdca26\"],[1.0,\"#f0f921\"]],\"type\":\"heatmapgl\"}],\"heatmap\":[{\"colorbar\":{\"outlinewidth\":0,\"ticks\":\"\"},\"colorscale\":[[0.0,\"#0d0887\"],[0.1111111111111111,\"#46039f\"],[0.2222222222222222,\"#7201a8\"],[0.3333333333333333,\"#9c179e\"],[0.4444444444444444,\"#bd3786\"],[0.5555555555555556,\"#d8576b\"],[0.6666666666666666,\"#ed7953\"],[0.7777777777777778,\"#fb9f3a\"],[0.8888888888888888,\"#fdca26\"],[1.0,\"#f0f921\"]],\"type\":\"heatmap\"}],\"histogram2dcontour\":[{\"colorbar\":{\"outlinewidth\":0,\"ticks\":\"\"},\"colorscale\":[[0.0,\"#0d0887\"],[0.1111111111111111,\"#46039f\"],[0.2222222222222222,\"#7201a8\"],[0.3333333333333333,\"#9c179e\"],[0.4444444444444444,\"#bd3786\"],[0.5555555555555556,\"#d8576b\"],[0.6666666666666666,\"#ed7953\"],[0.7777777777777778,\"#fb9f3a\"],[0.8888888888888888,\"#fdca26\"],[1.0,\"#f0f921\"]],\"type\":\"histogram2dcontour\"}],\"histogram2d\":[{\"colorbar\":{\"outlinewidth\":0,\"ticks\":\"\"},\"colorscale\":[[0.0,\"#0d0887\"],[0.1111111111111111,\"#46039f\"],[0.2222222222222222,\"#7201a8\"],[0.3333333333333333,\"#9c179e\"],[0.4444444444444444,\"#bd3786\"],[0.5555555555555556,\"#d8576b\"],[0.6666666666666666,\"#ed7953\"],[0.7777777777777778,\"#fb9f3a\"],[0.8888888888888888,\"#fdca26\"],[1.0,\"#f0f921\"]],\"type\":\"histogram2d\"}],\"histogram\":[{\"marker\":{\"pattern\":{\"fillmode\":\"overlay\",\"size\":10,\"solidity\":0.2}},\"type\":\"histogram\"}],\"mesh3d\":[{\"colorbar\":{\"outlinewidth\":0,\"ticks\":\"\"},\"type\":\"mesh3d\"}],\"parcoords\":[{\"line\":{\"colorbar\":{\"outlinewidth\":0,\"ticks\":\"\"}},\"type\":\"parcoords\"}],\"pie\":[{\"automargin\":true,\"type\":\"pie\"}],\"scatter3d\":[{\"line\":{\"colorbar\":{\"outlinewidth\":0,\"ticks\":\"\"}},\"marker\":{\"colorbar\":{\"outlinewidth\":0,\"ticks\":\"\"}},\"type\":\"scatter3d\"}],\"scattercarpet\":[{\"marker\":{\"colorbar\":{\"outlinewidth\":0,\"ticks\":\"\"}},\"type\":\"scattercarpet\"}],\"scattergeo\":[{\"marker\":{\"colorbar\":{\"outlinewidth\":0,\"ticks\":\"\"}},\"type\":\"scattergeo\"}],\"scattergl\":[{\"marker\":{\"colorbar\":{\"outlinewidth\":0,\"ticks\":\"\"}},\"type\":\"scattergl\"}],\"scattermapbox\":[{\"marker\":{\"colorbar\":{\"outlinewidth\":0,\"ticks\":\"\"}},\"type\":\"scattermapbox\"}],\"scatterpolargl\":[{\"marker\":{\"colorbar\":{\"outlinewidth\":0,\"ticks\":\"\"}},\"type\":\"scatterpolargl\"}],\"scatterpolar\":[{\"marker\":{\"colorbar\":{\"outlinewidth\":0,\"ticks\":\"\"}},\"type\":\"scatterpolar\"}],\"scatter\":[{\"fillpattern\":{\"fillmode\":\"overlay\",\"size\":10,\"solidity\":0.2},\"type\":\"scatter\"}],\"scatterternary\":[{\"marker\":{\"colorbar\":{\"outlinewidth\":0,\"ticks\":\"\"}},\"type\":\"scatterternary\"}],\"surface\":[{\"colorbar\":{\"outlinewidth\":0,\"ticks\":\"\"},\"colorscale\":[[0.0,\"#0d0887\"],[0.1111111111111111,\"#46039f\"],[0.2222222222222222,\"#7201a8\"],[0.3333333333333333,\"#9c179e\"],[0.4444444444444444,\"#bd3786\"],[0.5555555555555556,\"#d8576b\"],[0.6666666666666666,\"#ed7953\"],[0.7777777777777778,\"#fb9f3a\"],[0.8888888888888888,\"#fdca26\"],[1.0,\"#f0f921\"]],\"type\":\"surface\"}],\"table\":[{\"cells\":{\"fill\":{\"color\":\"#EBF0F8\"},\"line\":{\"color\":\"white\"}},\"header\":{\"fill\":{\"color\":\"#C8D4E3\"},\"line\":{\"color\":\"white\"}},\"type\":\"table\"}]},\"layout\":{\"annotationdefaults\":{\"arrowcolor\":\"#2a3f5f\",\"arrowhead\":0,\"arrowwidth\":1},\"autotypenumbers\":\"strict\",\"coloraxis\":{\"colorbar\":{\"outlinewidth\":0,\"ticks\":\"\"}},\"colorscale\":{\"diverging\":[[0,\"#8e0152\"],[0.1,\"#c51b7d\"],[0.2,\"#de77ae\"],[0.3,\"#f1b6da\"],[0.4,\"#fde0ef\"],[0.5,\"#f7f7f7\"],[0.6,\"#e6f5d0\"],[0.7,\"#b8e186\"],[0.8,\"#7fbc41\"],[0.9,\"#4d9221\"],[1,\"#276419\"]],\"sequential\":[[0.0,\"#0d0887\"],[0.1111111111111111,\"#46039f\"],[0.2222222222222222,\"#7201a8\"],[0.3333333333333333,\"#9c179e\"],[0.4444444444444444,\"#bd3786\"],[0.5555555555555556,\"#d8576b\"],[0.6666666666666666,\"#ed7953\"],[0.7777777777777778,\"#fb9f3a\"],[0.8888888888888888,\"#fdca26\"],[1.0,\"#f0f921\"]],\"sequentialminus\":[[0.0,\"#0d0887\"],[0.1111111111111111,\"#46039f\"],[0.2222222222222222,\"#7201a8\"],[0.3333333333333333,\"#9c179e\"],[0.4444444444444444,\"#bd3786\"],[0.5555555555555556,\"#d8576b\"],[0.6666666666666666,\"#ed7953\"],[0.7777777777777778,\"#fb9f3a\"],[0.8888888888888888,\"#fdca26\"],[1.0,\"#f0f921\"]]},\"colorway\":[\"#636efa\",\"#EF553B\",\"#00cc96\",\"#ab63fa\",\"#FFA15A\",\"#19d3f3\",\"#FF6692\",\"#B6E880\",\"#FF97FF\",\"#FECB52\"],\"font\":{\"color\":\"#2a3f5f\"},\"geo\":{\"bgcolor\":\"white\",\"lakecolor\":\"white\",\"landcolor\":\"white\",\"showlakes\":true,\"showland\":true,\"subunitcolor\":\"#C8D4E3\"},\"hoverlabel\":{\"align\":\"left\"},\"hovermode\":\"closest\",\"mapbox\":{\"style\":\"light\"},\"paper_bgcolor\":\"white\",\"plot_bgcolor\":\"white\",\"polar\":{\"angularaxis\":{\"gridcolor\":\"#EBF0F8\",\"linecolor\":\"#EBF0F8\",\"ticks\":\"\"},\"bgcolor\":\"white\",\"radialaxis\":{\"gridcolor\":\"#EBF0F8\",\"linecolor\":\"#EBF0F8\",\"ticks\":\"\"}},\"scene\":{\"xaxis\":{\"backgroundcolor\":\"white\",\"gridcolor\":\"#DFE8F3\",\"gridwidth\":2,\"linecolor\":\"#EBF0F8\",\"showbackground\":true,\"ticks\":\"\",\"zerolinecolor\":\"#EBF0F8\"},\"yaxis\":{\"backgroundcolor\":\"white\",\"gridcolor\":\"#DFE8F3\",\"gridwidth\":2,\"linecolor\":\"#EBF0F8\",\"showbackground\":true,\"ticks\":\"\",\"zerolinecolor\":\"#EBF0F8\"},\"zaxis\":{\"backgroundcolor\":\"white\",\"gridcolor\":\"#DFE8F3\",\"gridwidth\":2,\"linecolor\":\"#EBF0F8\",\"showbackground\":true,\"ticks\":\"\",\"zerolinecolor\":\"#EBF0F8\"}},\"shapedefaults\":{\"line\":{\"color\":\"#2a3f5f\"}},\"ternary\":{\"aaxis\":{\"gridcolor\":\"#DFE8F3\",\"linecolor\":\"#A2B1C6\",\"ticks\":\"\"},\"baxis\":{\"gridcolor\":\"#DFE8F3\",\"linecolor\":\"#A2B1C6\",\"ticks\":\"\"},\"bgcolor\":\"white\",\"caxis\":{\"gridcolor\":\"#DFE8F3\",\"linecolor\":\"#A2B1C6\",\"ticks\":\"\"}},\"title\":{\"x\":0.05},\"xaxis\":{\"automargin\":true,\"gridcolor\":\"#EBF0F8\",\"linecolor\":\"#EBF0F8\",\"ticks\":\"\",\"title\":{\"standoff\":15},\"zerolinecolor\":\"#EBF0F8\",\"zerolinewidth\":2},\"yaxis\":{\"automargin\":true,\"gridcolor\":\"#EBF0F8\",\"linecolor\":\"#EBF0F8\",\"ticks\":\"\",\"title\":{\"standoff\":15},\"zerolinecolor\":\"#EBF0F8\",\"zerolinewidth\":2}}},\"title\":{\"text\":\"sentiment\",\"x\":0.5,\"xanchor\":\"center\",\"y\":0.6,\"yanchor\":\"top\"},\"xaxis\":{\"anchor\":\"y\",\"domain\":[0.0,0.45]},\"yaxis\":{\"anchor\":\"x\",\"domain\":[0.0,1.0]}},                        {\"responsive\": true}                    ).then(function(){\n",
       "                            \n",
       "var gd = document.getElementById('ce5b4384-8d5a-4683-a28d-69083b3f7bcf');\n",
       "var x = new MutationObserver(function (mutations, observer) {{\n",
       "        var display = window.getComputedStyle(gd).display;\n",
       "        if (!display || display === 'none') {{\n",
       "            console.log([gd, 'removed!']);\n",
       "            Plotly.purge(gd);\n",
       "            observer.disconnect();\n",
       "        }}\n",
       "}});\n",
       "\n",
       "// Listen for the removal of the full notebook cells\n",
       "var notebookContainer = gd.closest('#notebook-container');\n",
       "if (notebookContainer) {{\n",
       "    x.observe(notebookContainer, {childList: true});\n",
       "}}\n",
       "\n",
       "// Listen for the clearing of the current output cell\n",
       "var outputEl = gd.closest('.output');\n",
       "if (outputEl) {{\n",
       "    x.observe(outputEl, {childList: true});\n",
       "}}\n",
       "\n",
       "                        })                };                });            </script>        </div>"
      ]
     },
     "metadata": {},
     "output_type": "display_data"
    }
   ],
   "source": [
    "#Different color\n",
    "sentiment_plot = Eda\n",
    "constraints = ['#B34D22', '#EBE00C', '#1FEB0C', '#0C92EB', '#EB0CD5']\n",
    "sentiment_plot.categorical_variable_summary(df, 'sentiment', constraints)"
   ]
  }
 ],
 "metadata": {
  "kernelspec": {
   "display_name": "Python 3 (ipykernel)",
   "language": "python",
   "name": "python3"
  },
  "language_info": {
   "codemirror_mode": {
    "name": "ipython",
    "version": 3
   },
   "file_extension": ".py",
   "mimetype": "text/x-python",
   "name": "python",
   "nbconvert_exporter": "python",
   "pygments_lexer": "ipython3",
   "version": "3.10.9"
  }
 },
 "nbformat": 4,
 "nbformat_minor": 5
}
